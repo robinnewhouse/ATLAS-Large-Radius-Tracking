{
  "nbformat": 4,
  "nbformat_minor": 0,
  "metadata": {
    "colab": {
      "name": "LRTTraining.ipynb",
      "provenance": [],
      "collapsed_sections": [],
      "mount_file_id": "1rMazIQO088U98lNtFiyqY1cZGHXSiYp1",
      "authorship_tag": "ABX9TyPpHE2IlMnroNYjIl9gKijz",
      "include_colab_link": true
    },
    "kernelspec": {
      "name": "python3",
      "display_name": "Python 3"
    },
    "accelerator": "GPU"
  },
  "cells": [
    {
      "cell_type": "markdown",
      "metadata": {
        "id": "view-in-github",
        "colab_type": "text"
      },
      "source": [
        "<a href=\"https://colab.research.google.com/github/robinnewhouse/ATLAS-Large-Radius-Tracking/blob/master/LRTTraining.ipynb\" target=\"_parent\"><img src=\"https://colab.research.google.com/assets/colab-badge.svg\" alt=\"Open In Colab\"/></a>"
      ]
    },
    {
      "cell_type": "code",
      "metadata": {
        "id": "-AaP73-Iknop",
        "colab_type": "code",
        "colab": {
          "base_uri": "https://localhost:8080/",
          "height": 34
        },
        "outputId": "c0a09bb9-a7e4-407d-a17f-587343351e50"
      },
      "source": [
        "import os\n",
        "os.environ['TF_CPP_MIN_LOG_LEVEL'] = '0' \n",
        "\n",
        "%tensorflow_version 2.x\n",
        "import tensorflow as tf\n",
        "device_name = tf.test.gpu_device_name()\n",
        "if device_name != '/device:GPU:0':\n",
        "  raise SystemError('GPU device not found')\n",
        "print('Found GPU at: {}'.format(device_name))\n"
      ],
      "execution_count": 1,
      "outputs": [
        {
          "output_type": "stream",
          "text": [
            "Found GPU at: /device:GPU:0\n"
          ],
          "name": "stdout"
        }
      ]
    },
    {
      "cell_type": "code",
      "metadata": {
        "id": "Ov-diprzJBkC",
        "colab_type": "code",
        "colab": {
          "base_uri": "https://localhost:8080/",
          "height": 221
        },
        "outputId": "ce8c6e42-23c6-4d10-a127-7adf1017e88f"
      },
      "source": [
        "!pip install uproot"
      ],
      "execution_count": 2,
      "outputs": [
        {
          "output_type": "stream",
          "text": [
            "Collecting uproot\n",
            "\u001b[?25l  Downloading https://files.pythonhosted.org/packages/0a/52/0e5e295affc168430591b8a687f7ba6c2bb911c766605466e224e2b22069/uproot-3.11.7-py2.py3-none-any.whl (116kB)\n",
            "\u001b[K     |████████████████████████████████| 122kB 5.2MB/s \n",
            "\u001b[?25hCollecting awkward<1.0,>=0.12.0\n",
            "\u001b[?25l  Downloading https://files.pythonhosted.org/packages/fc/8c/8ea1400b1abb1ae3258c9a71b4fc0094d33c21c55f9f5371541984dcc3ef/awkward-0.12.22-py2.py3-none-any.whl (87kB)\n",
            "\u001b[K     |████████████████████████████████| 92kB 7.4MB/s \n",
            "\u001b[?25hCollecting uproot-methods>=0.7.0\n",
            "  Downloading https://files.pythonhosted.org/packages/d3/68/d848b0ff4d1a30500b26dd570068edf5b30bafbc40500b887ef34d13377b/uproot_methods-0.7.4-py2.py3-none-any.whl\n",
            "Requirement already satisfied: numpy>=1.13.1 in /usr/local/lib/python3.6/dist-packages (from uproot) (1.18.5)\n",
            "Requirement already satisfied: cachetools in /usr/local/lib/python3.6/dist-packages (from uproot) (4.1.0)\n",
            "Installing collected packages: awkward, uproot-methods, uproot\n",
            "Successfully installed awkward-0.12.22 uproot-3.11.7 uproot-methods-0.7.4\n"
          ],
          "name": "stdout"
        }
      ]
    },
    {
      "cell_type": "code",
      "metadata": {
        "id": "5riUKHzJmTW4",
        "colab_type": "code",
        "colab": {}
      },
      "source": [
        "import pandas as pd\n",
        "import sklearn\n",
        "import uproot\n",
        "import numpy as np\n",
        "import matplotlib.pyplot as plt\n",
        "import tensorflow as tf\n",
        "from tensorflow import keras\n",
        "from IPython.display import clear_output\n",
        "from tensorflow.keras.callbacks import Callback\n",
        "from tensorflow.keras.callbacks import EarlyStopping\n",
        "from tensorflow.keras.utils import Sequence\n",
        "from tensorflow.keras.utils import plot_model\n",
        "\n",
        "import matplotlib.lines as mlinesZ\n",
        "import json\n",
        "import datetime\n",
        "import time\n",
        "import os\n",
        "import warnings\n",
        "import glob\n",
        "\n",
        "from sklearn.model_selection import train_test_split\n",
        "from sklearn.preprocessing import minmax_scale, scale\n",
        "from sklearn.metrics import confusion_matrix, f1_score, precision_score, recall_score, accuracy_score\n",
        "from sklearn.utils import class_weight\n",
        "plt.style.use('seaborn-deep')"
      ],
      "execution_count": 3,
      "outputs": []
    },
    {
      "cell_type": "code",
      "metadata": {
        "id": "SzaDEOgN1KD7",
        "colab_type": "code",
        "colab": {
          "base_uri": "https://localhost:8080/",
          "height": 119
        },
        "outputId": "72610df7-20b7-4d04-d0c6-434e79a700df"
      },
      "source": [
        "# tf.debugging.set_log_device_placement(True)\n",
        "# Use this line to enable GPU (only on applicable architecures)\n",
        "tf.config.list_physical_devices('GPU')\n",
        "# os.environ[\"CUDA_VISIBLE_DEVICES\"] = \"1\" # turns off gpu\n",
        "# print(tf.config.list_physical_devices('GPU'))\n",
        "tf.test.is_gpu_available()\n",
        "a = tf.constant([[1.0, 2.0, 3.0], [4.0, 5.0, 6.0]])\n",
        "b = tf.constant([[1.0, 2.0], [3.0, 4.0], [5.0, 6.0]])\n",
        "c = tf.matmul(a, b)\n",
        "print(c)"
      ],
      "execution_count": 4,
      "outputs": [
        {
          "output_type": "stream",
          "text": [
            "WARNING:tensorflow:From <ipython-input-4-4c73df077793>:6: is_gpu_available (from tensorflow.python.framework.test_util) is deprecated and will be removed in a future version.\n",
            "Instructions for updating:\n",
            "Use `tf.config.list_physical_devices('GPU')` instead.\n",
            "tf.Tensor(\n",
            "[[22. 28.]\n",
            " [49. 64.]], shape=(2, 2), dtype=float32)\n"
          ],
          "name": "stdout"
        }
      ]
    },
    {
      "cell_type": "code",
      "metadata": {
        "id": "Jw4AIC7Rot_0",
        "colab_type": "code",
        "colab": {}
      },
      "source": [
        "# fix random seed for reproducibility\n",
        "seed = 100\n",
        "np.random.seed(seed)\n"
      ],
      "execution_count": 5,
      "outputs": []
    },
    {
      "cell_type": "code",
      "metadata": {
        "id": "KTqStoabo1tE",
        "colab_type": "code",
        "colab": {}
      },
      "source": [
        "# Load tracks from stored pickle of ntuples\n",
        "\n",
        "full_df = pd.read_pickle('/content/drive/My Drive/newhouse/Work/ATLAS/LRT/training/tracks_weighted.pkl')"
      ],
      "execution_count": 6,
      "outputs": []
    },
    {
      "cell_type": "code",
      "metadata": {
        "id": "iiqK_1pkpKqN",
        "colab_type": "code",
        "colab": {
          "base_uri": "https://localhost:8080/",
          "height": 623
        },
        "outputId": "b62657dd-8e9f-4d77-feff-c668f0d4fd73"
      },
      "source": [
        "# Inspect loaded dataframe\n",
        "print(\"columns:\", full_df.columns)\n",
        "print(\"Total number of tracks loaded\", len(full_df))\n",
        "full_df.describe()"
      ],
      "execution_count": 7,
      "outputs": [
        {
          "output_type": "stream",
          "text": [
            "columns: Index(['numberOfPixelHoles', 'numberOfSCTHoles', 'numberOfSCTDoubleHoles',\n",
            "       'numberOfContribPixelLayers', 'numberOfBLayerHits',\n",
            "       'numberOfGangedFlaggedFakes', 'numberOfPixelHits', 'numberOfSCTHits',\n",
            "       'standardDeviationOfChi2OS', 'track_pt', 'chiSquared', 'numberDoF',\n",
            "       'numberOfBLayerSplitHits', 'numberOfInnermostLayerSplitHits',\n",
            "       'numberOfInnermostPixelLayerHits',\n",
            "       'numberOfNextToInnermostLayerSplitHits',\n",
            "       'numberOfNextToInnermostPixelLayerHits', 'numberOfPixelSplitHits',\n",
            "       'numberOfPixelOutliers', 'numberOfSCTOutliers',\n",
            "       'numberOfPixelSpoiltHits', 'numberOfSCTSpoiltHits',\n",
            "       'numberOfGangedPixels', 'numberOfOutliersOnTrack', 'eta', 'd0', 'z0',\n",
            "       'phi0', 'theta', 'qOverP', 'score', 'linkValid', 'truthProbability',\n",
            "       'signal', 'geometric_var', 'abs_z0', 'abs_d0', 'abs_eta', 'Sihits',\n",
            "       'is_good', 'weights'],\n",
            "      dtype='object')\n",
            "Total number of tracks loaded 2989648\n"
          ],
          "name": "stdout"
        },
        {
          "output_type": "execute_result",
          "data": {
            "text/html": [
              "<div>\n",
              "<style scoped>\n",
              "    .dataframe tbody tr th:only-of-type {\n",
              "        vertical-align: middle;\n",
              "    }\n",
              "\n",
              "    .dataframe tbody tr th {\n",
              "        vertical-align: top;\n",
              "    }\n",
              "\n",
              "    .dataframe thead th {\n",
              "        text-align: right;\n",
              "    }\n",
              "</style>\n",
              "<table border=\"1\" class=\"dataframe\">\n",
              "  <thead>\n",
              "    <tr style=\"text-align: right;\">\n",
              "      <th></th>\n",
              "      <th>numberOfPixelHoles</th>\n",
              "      <th>numberOfSCTHoles</th>\n",
              "      <th>numberOfSCTDoubleHoles</th>\n",
              "      <th>numberOfContribPixelLayers</th>\n",
              "      <th>numberOfBLayerHits</th>\n",
              "      <th>numberOfGangedFlaggedFakes</th>\n",
              "      <th>numberOfPixelHits</th>\n",
              "      <th>numberOfSCTHits</th>\n",
              "      <th>standardDeviationOfChi2OS</th>\n",
              "      <th>track_pt</th>\n",
              "      <th>chiSquared</th>\n",
              "      <th>numberDoF</th>\n",
              "      <th>numberOfBLayerSplitHits</th>\n",
              "      <th>numberOfInnermostLayerSplitHits</th>\n",
              "      <th>numberOfInnermostPixelLayerHits</th>\n",
              "      <th>numberOfNextToInnermostLayerSplitHits</th>\n",
              "      <th>numberOfNextToInnermostPixelLayerHits</th>\n",
              "      <th>numberOfPixelSplitHits</th>\n",
              "      <th>numberOfPixelOutliers</th>\n",
              "      <th>numberOfSCTOutliers</th>\n",
              "      <th>numberOfPixelSpoiltHits</th>\n",
              "      <th>numberOfSCTSpoiltHits</th>\n",
              "      <th>numberOfGangedPixels</th>\n",
              "      <th>numberOfOutliersOnTrack</th>\n",
              "      <th>eta</th>\n",
              "      <th>d0</th>\n",
              "      <th>z0</th>\n",
              "      <th>phi0</th>\n",
              "      <th>theta</th>\n",
              "      <th>qOverP</th>\n",
              "      <th>score</th>\n",
              "      <th>truthProbability</th>\n",
              "      <th>geometric_var</th>\n",
              "      <th>abs_z0</th>\n",
              "      <th>abs_d0</th>\n",
              "      <th>abs_eta</th>\n",
              "      <th>Sihits</th>\n",
              "      <th>weights</th>\n",
              "    </tr>\n",
              "  </thead>\n",
              "  <tbody>\n",
              "    <tr>\n",
              "      <th>count</th>\n",
              "      <td>2.989648e+06</td>\n",
              "      <td>2.989648e+06</td>\n",
              "      <td>2989648.0</td>\n",
              "      <td>2.989648e+06</td>\n",
              "      <td>2989648.0</td>\n",
              "      <td>2.989648e+06</td>\n",
              "      <td>2.989648e+06</td>\n",
              "      <td>2.989648e+06</td>\n",
              "      <td>2.989648e+06</td>\n",
              "      <td>2.989648e+06</td>\n",
              "      <td>2.989648e+06</td>\n",
              "      <td>2.989648e+06</td>\n",
              "      <td>2989648.0</td>\n",
              "      <td>2.989648e+06</td>\n",
              "      <td>2.989648e+06</td>\n",
              "      <td>2.989648e+06</td>\n",
              "      <td>2.989648e+06</td>\n",
              "      <td>2.989648e+06</td>\n",
              "      <td>2.989648e+06</td>\n",
              "      <td>2.989648e+06</td>\n",
              "      <td>2.989648e+06</td>\n",
              "      <td>2.989648e+06</td>\n",
              "      <td>2.989648e+06</td>\n",
              "      <td>2.989648e+06</td>\n",
              "      <td>2.989648e+06</td>\n",
              "      <td>2.989648e+06</td>\n",
              "      <td>2.989648e+06</td>\n",
              "      <td>2.989648e+06</td>\n",
              "      <td>2.989648e+06</td>\n",
              "      <td>2.989648e+06</td>\n",
              "      <td>2.989648e+06</td>\n",
              "      <td>2.989648e+06</td>\n",
              "      <td>2.989648e+06</td>\n",
              "      <td>2.989648e+06</td>\n",
              "      <td>2.989648e+06</td>\n",
              "      <td>2.989648e+06</td>\n",
              "      <td>2.989648e+06</td>\n",
              "      <td>2989648.0</td>\n",
              "    </tr>\n",
              "    <tr>\n",
              "      <th>mean</th>\n",
              "      <td>2.074729e-01</td>\n",
              "      <td>2.657768e-01</td>\n",
              "      <td>0.0</td>\n",
              "      <td>1.079176e+00</td>\n",
              "      <td>-1.0</td>\n",
              "      <td>1.592997e-02</td>\n",
              "      <td>1.133434e+00</td>\n",
              "      <td>7.916095e+00</td>\n",
              "      <td>1.144905e+02</td>\n",
              "      <td>2.900017e+04</td>\n",
              "      <td>6.832354e+00</td>\n",
              "      <td>5.182963e+00</td>\n",
              "      <td>-1.0</td>\n",
              "      <td>2.097237e-04</td>\n",
              "      <td>8.833515e-02</td>\n",
              "      <td>3.194356e-04</td>\n",
              "      <td>1.879830e-01</td>\n",
              "      <td>1.232252e-03</td>\n",
              "      <td>2.367603e-02</td>\n",
              "      <td>2.910476e-02</td>\n",
              "      <td>4.796886e-02</td>\n",
              "      <td>1.037333e-01</td>\n",
              "      <td>7.804899e-02</td>\n",
              "      <td>5.278080e-02</td>\n",
              "      <td>1.294714e-02</td>\n",
              "      <td>-2.635703e+00</td>\n",
              "      <td>5.579547e-01</td>\n",
              "      <td>-2.293952e-02</td>\n",
              "      <td>1.563522e+00</td>\n",
              "      <td>2.982623e-05</td>\n",
              "      <td>3.617784e+02</td>\n",
              "      <td>7.400980e-01</td>\n",
              "      <td>1.186394e+00</td>\n",
              "      <td>1.562124e+02</td>\n",
              "      <td>5.442146e+01</td>\n",
              "      <td>1.145800e+00</td>\n",
              "      <td>9.049529e+00</td>\n",
              "      <td>1.0</td>\n",
              "    </tr>\n",
              "    <tr>\n",
              "      <th>std</th>\n",
              "      <td>4.054972e-01</td>\n",
              "      <td>4.417460e-01</td>\n",
              "      <td>0.0</td>\n",
              "      <td>1.045883e+00</td>\n",
              "      <td>0.0</td>\n",
              "      <td>1.263800e-01</td>\n",
              "      <td>1.149012e+00</td>\n",
              "      <td>1.070428e+00</td>\n",
              "      <td>3.969355e+03</td>\n",
              "      <td>3.830809e+07</td>\n",
              "      <td>5.233947e+00</td>\n",
              "      <td>2.420265e+00</td>\n",
              "      <td>0.0</td>\n",
              "      <td>1.500221e-02</td>\n",
              "      <td>3.008030e-01</td>\n",
              "      <td>1.833189e-02</td>\n",
              "      <td>4.156516e-01</td>\n",
              "      <td>3.709315e-02</td>\n",
              "      <td>1.551713e-01</td>\n",
              "      <td>1.857901e-01</td>\n",
              "      <td>2.209602e-01</td>\n",
              "      <td>3.368235e-01</td>\n",
              "      <td>2.786701e-01</td>\n",
              "      <td>2.442725e-01</td>\n",
              "      <td>1.340022e+00</td>\n",
              "      <td>7.757130e+01</td>\n",
              "      <td>2.045529e+02</td>\n",
              "      <td>1.812966e+00</td>\n",
              "      <td>9.440221e-01</td>\n",
              "      <td>4.257649e-04</td>\n",
              "      <td>2.489364e+03</td>\n",
              "      <td>2.430430e-01</td>\n",
              "      <td>8.933309e-01</td>\n",
              "      <td>1.320602e+02</td>\n",
              "      <td>5.534037e+01</td>\n",
              "      <td>6.949590e-01</td>\n",
              "      <td>1.476998e+00</td>\n",
              "      <td>0.0</td>\n",
              "    </tr>\n",
              "    <tr>\n",
              "      <th>min</th>\n",
              "      <td>0.000000e+00</td>\n",
              "      <td>0.000000e+00</td>\n",
              "      <td>0.0</td>\n",
              "      <td>0.000000e+00</td>\n",
              "      <td>-1.0</td>\n",
              "      <td>0.000000e+00</td>\n",
              "      <td>0.000000e+00</td>\n",
              "      <td>2.000000e+00</td>\n",
              "      <td>-1.000000e+00</td>\n",
              "      <td>1.000001e+03</td>\n",
              "      <td>1.220766e-04</td>\n",
              "      <td>1.000000e+00</td>\n",
              "      <td>-1.0</td>\n",
              "      <td>0.000000e+00</td>\n",
              "      <td>0.000000e+00</td>\n",
              "      <td>0.000000e+00</td>\n",
              "      <td>0.000000e+00</td>\n",
              "      <td>0.000000e+00</td>\n",
              "      <td>0.000000e+00</td>\n",
              "      <td>0.000000e+00</td>\n",
              "      <td>0.000000e+00</td>\n",
              "      <td>0.000000e+00</td>\n",
              "      <td>0.000000e+00</td>\n",
              "      <td>0.000000e+00</td>\n",
              "      <td>-2.691469e+00</td>\n",
              "      <td>-2.998766e+02</td>\n",
              "      <td>-4.999986e+02</td>\n",
              "      <td>-3.141592e+00</td>\n",
              "      <td>1.348850e-01</td>\n",
              "      <td>-9.998488e-04</td>\n",
              "      <td>7.758226e-05</td>\n",
              "      <td>1.000000e-01</td>\n",
              "      <td>4.063888e-07</td>\n",
              "      <td>3.377415e-05</td>\n",
              "      <td>7.760171e-06</td>\n",
              "      <td>3.486286e-06</td>\n",
              "      <td>6.000000e+00</td>\n",
              "      <td>1.0</td>\n",
              "    </tr>\n",
              "    <tr>\n",
              "      <th>25%</th>\n",
              "      <td>0.000000e+00</td>\n",
              "      <td>0.000000e+00</td>\n",
              "      <td>0.0</td>\n",
              "      <td>0.000000e+00</td>\n",
              "      <td>-1.0</td>\n",
              "      <td>0.000000e+00</td>\n",
              "      <td>0.000000e+00</td>\n",
              "      <td>7.000000e+00</td>\n",
              "      <td>5.000000e+01</td>\n",
              "      <td>1.187536e+03</td>\n",
              "      <td>3.019920e+00</td>\n",
              "      <td>4.000000e+00</td>\n",
              "      <td>-1.0</td>\n",
              "      <td>0.000000e+00</td>\n",
              "      <td>0.000000e+00</td>\n",
              "      <td>0.000000e+00</td>\n",
              "      <td>0.000000e+00</td>\n",
              "      <td>0.000000e+00</td>\n",
              "      <td>0.000000e+00</td>\n",
              "      <td>0.000000e+00</td>\n",
              "      <td>0.000000e+00</td>\n",
              "      <td>0.000000e+00</td>\n",
              "      <td>0.000000e+00</td>\n",
              "      <td>0.000000e+00</td>\n",
              "      <td>-1.101254e+00</td>\n",
              "      <td>-3.615840e+01</td>\n",
              "      <td>-1.142127e+02</td>\n",
              "      <td>-1.590446e+00</td>\n",
              "      <td>6.277133e-01</td>\n",
              "      <td>-2.747647e-04</td>\n",
              "      <td>9.017683e-03</td>\n",
              "      <td>5.555556e-01</td>\n",
              "      <td>3.618336e-01</td>\n",
              "      <td>4.351445e+01</td>\n",
              "      <td>1.208131e+01</td>\n",
              "      <td>5.565343e-01</td>\n",
              "      <td>8.000000e+00</td>\n",
              "      <td>1.0</td>\n",
              "    </tr>\n",
              "    <tr>\n",
              "      <th>50%</th>\n",
              "      <td>0.000000e+00</td>\n",
              "      <td>0.000000e+00</td>\n",
              "      <td>0.0</td>\n",
              "      <td>1.000000e+00</td>\n",
              "      <td>-1.0</td>\n",
              "      <td>0.000000e+00</td>\n",
              "      <td>1.000000e+00</td>\n",
              "      <td>8.000000e+00</td>\n",
              "      <td>8.200000e+01</td>\n",
              "      <td>1.519313e+03</td>\n",
              "      <td>5.664157e+00</td>\n",
              "      <td>4.000000e+00</td>\n",
              "      <td>-1.0</td>\n",
              "      <td>0.000000e+00</td>\n",
              "      <td>0.000000e+00</td>\n",
              "      <td>0.000000e+00</td>\n",
              "      <td>0.000000e+00</td>\n",
              "      <td>0.000000e+00</td>\n",
              "      <td>0.000000e+00</td>\n",
              "      <td>0.000000e+00</td>\n",
              "      <td>0.000000e+00</td>\n",
              "      <td>0.000000e+00</td>\n",
              "      <td>0.000000e+00</td>\n",
              "      <td>0.000000e+00</td>\n",
              "      <td>1.132883e-02</td>\n",
              "      <td>-3.436747e+00</td>\n",
              "      <td>8.082203e-01</td>\n",
              "      <td>-3.091319e-02</td>\n",
              "      <td>1.559468e+00</td>\n",
              "      <td>5.101321e-05</td>\n",
              "      <td>2.027286e-02</td>\n",
              "      <td>7.777778e-01</td>\n",
              "      <td>9.921221e-01</td>\n",
              "      <td>1.150353e+02</td>\n",
              "      <td>3.297317e+01</td>\n",
              "      <td>1.113044e+00</td>\n",
              "      <td>8.000000e+00</td>\n",
              "      <td>1.0</td>\n",
              "    </tr>\n",
              "    <tr>\n",
              "      <th>75%</th>\n",
              "      <td>0.000000e+00</td>\n",
              "      <td>1.000000e+00</td>\n",
              "      <td>0.0</td>\n",
              "      <td>2.000000e+00</td>\n",
              "      <td>-1.0</td>\n",
              "      <td>0.000000e+00</td>\n",
              "      <td>2.000000e+00</td>\n",
              "      <td>8.000000e+00</td>\n",
              "      <td>1.360000e+02</td>\n",
              "      <td>2.545154e+03</td>\n",
              "      <td>9.265950e+00</td>\n",
              "      <td>6.000000e+00</td>\n",
              "      <td>-1.0</td>\n",
              "      <td>0.000000e+00</td>\n",
              "      <td>0.000000e+00</td>\n",
              "      <td>0.000000e+00</td>\n",
              "      <td>0.000000e+00</td>\n",
              "      <td>0.000000e+00</td>\n",
              "      <td>0.000000e+00</td>\n",
              "      <td>0.000000e+00</td>\n",
              "      <td>0.000000e+00</td>\n",
              "      <td>0.000000e+00</td>\n",
              "      <td>0.000000e+00</td>\n",
              "      <td>0.000000e+00</td>\n",
              "      <td>1.125207e+00</td>\n",
              "      <td>2.934807e+01</td>\n",
              "      <td>1.158504e+02</td>\n",
              "      <td>1.539261e+00</td>\n",
              "      <td>2.499675e+00</td>\n",
              "      <td>3.326354e-04</td>\n",
              "      <td>3.223465e-01</td>\n",
              "      <td>1.000000e+00</td>\n",
              "      <td>2.002212e+00</td>\n",
              "      <td>2.517706e+02</td>\n",
              "      <td>8.100210e+01</td>\n",
              "      <td>1.668462e+00</td>\n",
              "      <td>1.000000e+01</td>\n",
              "      <td>1.0</td>\n",
              "    </tr>\n",
              "    <tr>\n",
              "      <th>max</th>\n",
              "      <td>1.000000e+00</td>\n",
              "      <td>1.000000e+00</td>\n",
              "      <td>0.0</td>\n",
              "      <td>6.000000e+00</td>\n",
              "      <td>-1.0</td>\n",
              "      <td>3.000000e+00</td>\n",
              "      <td>9.000000e+00</td>\n",
              "      <td>1.800000e+01</td>\n",
              "      <td>3.189489e+06</td>\n",
              "      <td>6.623324e+10</td>\n",
              "      <td>9.856221e+01</td>\n",
              "      <td>2.500000e+01</td>\n",
              "      <td>-1.0</td>\n",
              "      <td>2.000000e+00</td>\n",
              "      <td>2.000000e+00</td>\n",
              "      <td>2.000000e+00</td>\n",
              "      <td>3.000000e+00</td>\n",
              "      <td>4.000000e+00</td>\n",
              "      <td>4.000000e+00</td>\n",
              "      <td>7.000000e+00</td>\n",
              "      <td>4.000000e+00</td>\n",
              "      <td>5.000000e+00</td>\n",
              "      <td>4.000000e+00</td>\n",
              "      <td>7.000000e+00</td>\n",
              "      <td>2.694963e+00</td>\n",
              "      <td>2.982235e+02</td>\n",
              "      <td>4.999996e+02</td>\n",
              "      <td>3.141591e+00</td>\n",
              "      <td>3.006237e+00</td>\n",
              "      <td>9.997356e-04</td>\n",
              "      <td>1.096304e+06</td>\n",
              "      <td>1.000000e+00</td>\n",
              "      <td>3.002888e+00</td>\n",
              "      <td>4.999996e+02</td>\n",
              "      <td>2.998766e+02</td>\n",
              "      <td>2.694963e+00</td>\n",
              "      <td>2.100000e+01</td>\n",
              "      <td>1.0</td>\n",
              "    </tr>\n",
              "  </tbody>\n",
              "</table>\n",
              "</div>"
            ],
            "text/plain": [
              "       numberOfPixelHoles  numberOfSCTHoles  ...        Sihits    weights\n",
              "count        2.989648e+06      2.989648e+06  ...  2.989648e+06  2989648.0\n",
              "mean         2.074729e-01      2.657768e-01  ...  9.049529e+00        1.0\n",
              "std          4.054972e-01      4.417460e-01  ...  1.476998e+00        0.0\n",
              "min          0.000000e+00      0.000000e+00  ...  6.000000e+00        1.0\n",
              "25%          0.000000e+00      0.000000e+00  ...  8.000000e+00        1.0\n",
              "50%          0.000000e+00      0.000000e+00  ...  8.000000e+00        1.0\n",
              "75%          0.000000e+00      1.000000e+00  ...  1.000000e+01        1.0\n",
              "max          1.000000e+00      1.000000e+00  ...  2.100000e+01        1.0\n",
              "\n",
              "[8 rows x 38 columns]"
            ]
          },
          "metadata": {
            "tags": []
          },
          "execution_count": 7
        }
      ]
    },
    {
      "cell_type": "code",
      "metadata": {
        "id": "UTxZDDl_pMjW",
        "colab_type": "code",
        "colab": {}
      },
      "source": [
        "# now shuffle by sampling\n",
        "df = full_df.sample(frac=1)"
      ],
      "execution_count": 8,
      "outputs": []
    },
    {
      "cell_type": "code",
      "metadata": {
        "id": "UJG07BL_sb5T",
        "colab_type": "code",
        "colab": {
          "base_uri": "https://localhost:8080/",
          "height": 51
        },
        "outputId": "556b781c-4999-4b50-f909-07a3b21dedb2"
      },
      "source": [
        "### Select relevant features and scale them\n",
        "# This could be done with a scikitlearn utility, but we're interested in recording the exact values of scaling and offset.\n",
        "# The LWTNN library uses scaling and offset information for each variable to automatically \n",
        "# pre-process the variables within athena.\n",
        "dir_name = '/content/drive/My Drive/newhouse/Work/ATLAS/LRT/training/'\n",
        "\n",
        "label_names = [\"is_good\"]\n",
        "\n",
        "# redefined based on permutation importance\n",
        "inputs_names = [ \n",
        "\"z0\",\n",
        "\"d0\",\n",
        "\"numberOfSCTHits\",\n",
        "\"Sihits\",\n",
        "\"eta\",\n",
        "\"numberDoF\",\n",
        "\"geometric_var\",\n",
        "\"numberOfSCTHoles\",\n",
        "]\n",
        "\n",
        "# Prepare for saving information to lwtnn\n",
        "# See https://github.com/dguest/lwtnn-tutorial-for-btaggers for motivation for this section\n",
        "variables_json = {'inputs': [],\n",
        "                  'class_labels': [\"nn_score\"]}\n",
        "\n",
        "# Manual scaling to save scale and offset params for lwtnn (otherwise could use skliearn scale)\n",
        "X = np.array(df[inputs_names])\n",
        "X_mean = X.mean(axis=0)\n",
        "# X = X - X_mean # offset\n",
        "X_std = X.std(axis=0)\n",
        "# Don't divide by 0. These values are all the same (probably zero) and will be ignored as null values in training.\n",
        "X_std[X_std==0] = 1\n",
        "# X = X/X_std # scale\n",
        "for i in range(len(inputs_names)):\n",
        "    variable_dict = {\n",
        "                     'name': inputs_names[i], \n",
        "                    #  'offset': -X_mean[i], \n",
        "                    #  'scale': 1/X_std[i] ,\n",
        "                       'offset': 0, \n",
        "                       'scale': 1, \n",
        "                     }\n",
        "    variables_json['inputs'].append(variable_dict)\n",
        "\n",
        "# now we save some things (create a subdirectory to keep it clean)\n",
        "model_dir = dir_name+'model'\n",
        "if not os.path.isdir(model_dir):\n",
        "    os.mkdir(model_dir)\n",
        "print()\n",
        "with open('{}/variables.json'.format(model_dir),'w') as variables:\n",
        "    variables.write(json.dumps(variables_json, indent=2))\n",
        "print(\"variables.json written to {}\".format(model_dir))"
      ],
      "execution_count": 35,
      "outputs": [
        {
          "output_type": "stream",
          "text": [
            "\n",
            "variables.json written to /content/drive/My Drive/newhouse/Work/ATLAS/LRT/training/model\n"
          ],
          "name": "stdout"
        }
      ]
    },
    {
      "cell_type": "code",
      "metadata": {
        "id": "RhHl5wScpRp6",
        "colab_type": "code",
        "colab": {
          "base_uri": "https://localhost:8080/",
          "height": 618
        },
        "outputId": "f301f678-a33e-4fe7-9959-85b7e08e2d04"
      },
      "source": [
        "\n",
        "    \n",
        "# Don't scale this. Keep the labels binary\n",
        "Y = np.array(df[label_names])\n",
        "\n",
        "# Split into training and validation sets\n",
        "X_train = X[0 : int(0.8*len(X))]\n",
        "X_val =  X[int(0.8*len(X)) : len(X)]\n",
        "Y_train = Y[0 : int(0.8*len(Y))]\n",
        "Y_val =  Y[int(0.8*len(Y)) : len(Y)]\n",
        "\n",
        "# Keep track of the weights\n",
        "train_weights = df.weights[0 : int(0.8*len(X))]\n",
        "val_weights =  df.weights[int(0.8*len(X)) : len(X)]\n",
        "\n",
        "# Check the samples are consistent\n",
        "assert(len(X_train) == len(Y_train))\n",
        "assert(len(X_train) == len(train_weights))\n",
        "assert(len(X_val) == len(Y_val))\n",
        "assert(len(X_val) == len(val_weights))\n",
        "\n",
        "# Plot features\n",
        "X_mean_new = X.mean(axis=0)\n",
        "X_std_new = X.std(axis=0)\n",
        "\n",
        "labels = inputs_names\n",
        "fig, (ax1, ax2) = plt.subplots(1, 2,figsize=(25,8))\n",
        "ax1.plot(labels, np.array(X_mean), alpha=0, label='Track')\n",
        "unscaled = ax1.errorbar(labels, np.array(X_mean), yerr=X_std, fmt='D', color='#C44E52', ecolor='#C44E52', linewidth=2, alpha = 0.8, label='_nolegend_')\n",
        "ax1.xaxis.set_tick_params(rotation=90)\n",
        "ax1.legend([unscaled],[\"Mean and stdev of features\"], fontsize=20)\n",
        "ax1.set_title(\"Features - unscaled\", fontsize=18)\n",
        "ax1.set_ylabel(\"Value\", fontsize=12)\n",
        "\n",
        "ax2.plot(labels, np.array(X_mean_new), alpha=0, label='Track')\n",
        "scaled = ax2.errorbar(labels, np.array(X_mean_new), yerr=X_std_new, fmt='D', color='#4C72B0', ecolor='#4C72B0', linewidth=2, alpha = 0.8, label='_nolegend_')\n",
        "ax2.xaxis.set_tick_params(rotation=90)\n",
        "ax2.legend([scaled],[\"Mean and stdev of features\"], fontsize=20)\n",
        "ax2.set_title(\"Features - scaled\", fontsize=18)\n",
        "ax2.set_ylabel(\"Value\", fontsize=12)\n",
        "\n",
        "plt.subplots_adjust(wspace = 0.3)"
      ],
      "execution_count": 11,
      "outputs": [
        {
          "output_type": "stream",
          "text": [
            "\n",
            "variables.json written to .model\n"
          ],
          "name": "stdout"
        },
        {
          "output_type": "display_data",
          "data": {
            "image/png": "[encoded data removed]",
            "text/plain": [
              "<Figure size 1800x576 with 2 Axes>"
            ]
          },
          "metadata": {
            "tags": [],
            "needs_background": "light"
          }
        }
      ]
    },
    {
      "cell_type": "code",
      "metadata": {
        "id": "c3pm40MaphRF",
        "colab_type": "code",
        "colab": {}
      },
      "source": [
        "### Callback functions\n",
        "\n",
        "# Functions for visualization\n",
        "# These are useful plots to watch when in a notebook environment\n",
        "# They should show the learning curves of the loss function and the accuracy metric\n",
        "\n",
        "# https://gist.github.com/stared/dfb4dfaf6d9a8501cd1cc8b8cb806d2e\n",
        "class PlotLearning(keras.callbacks.Callback):\n",
        "    def on_train_begin(self, logs={}):\n",
        "        self.i = 0\n",
        "        self.x = []\n",
        "        self.losses = []\n",
        "        self.val_losses = []\n",
        "        self.acc = []\n",
        "        self.val_acc = []\n",
        "        self.fig = plt.figure()\n",
        "        self.pred_good = np.array([])\n",
        "        self.pred_fake = np.array([])\n",
        "        \n",
        "        self.logs = []\n",
        "\n",
        "    def on_epoch_end(self, epoch, logs={}):\n",
        "        \n",
        "        self.logs.append(logs)\n",
        "        self.x.append(self.i)\n",
        "        self.losses.append(logs.get('loss'))\n",
        "        self.val_losses.append(logs.get('val_loss'))\n",
        "        self.acc.append(logs.get('accuracy'))\n",
        "        self.val_acc.append(logs.get('val_accuracy'))\n",
        "        self.i += 1\n",
        "        f, (ax1, ax2, ax3) = plt.subplots(1, 3, figsize=(24, 8), sharex=False)\n",
        "        \n",
        "        clear_output(wait=True)\n",
        "        \n",
        "        ax1.set_yscale('log')\n",
        "        ax1.plot(self.x, self.losses, label=\"Training set loss\")\n",
        "        ax1.plot(self.x, self.val_losses, label=\"Validation set loss\")\n",
        "        ax1.legend()\n",
        "        \n",
        "        ax2.plot(self.x, self.acc, label=\"Training set accuracy\")\n",
        "        ax2.plot(self.x, self.val_acc, label=\"Validation set accuracy\")\n",
        "        ax2.legend()\n",
        "        \n",
        "        if (epoch % 10 == 0):\n",
        "            predictions = model.predict(X_val[0:1000])\n",
        "            self.pred_good = predictions[Y_val.flatten()[0:1000] == 1]\n",
        "            self.pred_fake = predictions[Y_val.flatten()[0:1000] == 0]\n",
        "\n",
        "        x = [self.pred_good, self.pred_fake]\n",
        "        edgecolors = ['#4C72B0','#55A868']\n",
        "        for i in [0,1]:\n",
        "            ax3.hist(x[i], edgecolor=edgecolors[i], histtype='step', linewidth=2.5, alpha=0.85, density=1, bins = np.linspace(0,1,90))\n",
        "        ax3.set_xlabel(\"Value\", fontsize=12)\n",
        "        ax3.set_ylabel(\"Tracks\", fontsize=12)\n",
        "        ax3.set_title(\"NN precidction\", fontsize=18)\n",
        "        ax3.legend(['good', 'fake'], loc='upper center')\n",
        "#         ymin, ymax = plt.ylim()\n",
        "#         plt.ylim(ymin,ymax*1.1)\n",
        "        plt.show();\n",
        "        \n",
        "plot = PlotLearning()\n",
        "\n",
        "\n",
        "checkpoint_path = dir_name + \"training_1/cp.ckpt\"\n",
        "checkpoint_dir = os.path.dirname(checkpoint_path)\n",
        "os.makedirs(checkpoint_dir, exist_ok=True)\n",
        "\n",
        "# Create checkpoint callback\n",
        "cp_callback = keras.callbacks.ModelCheckpoint(checkpoint_path, \n",
        "#                                                  save_weights_only=True,\n",
        "                                                  save_best_only=True,\n",
        "                                                  monitor='val_loss', \n",
        "                                                  mode='min',\n",
        "                                            )\n",
        "\n",
        "# Create early stopping callback\n",
        "early_stop = EarlyStopping(patience=40, restore_best_weights=True)\n",
        "\n",
        "\n",
        "class GetBest(Callback):\n",
        "    \"\"\"Get the best model at the end of training.\n",
        "    # Arguments\n",
        "        monitor: quantity to monitor.\n",
        "        verbose: verbosity mode, 0 or 1.\n",
        "        mode: one of {auto, min, max}.\n",
        "            The decision\n",
        "            to overwrite the current stored weights is made\n",
        "            based on either the maximization or the\n",
        "            minimization of the monitored quantity. For `val_acc`,\n",
        "            this should be `max`, for `val_loss` this should\n",
        "            be `min`, etc. In `auto` mode, the direction is\n",
        "            automatically inferred from the name of the monitored quantity.\n",
        "        period: Interval (number of epochs) between checkpoints.\n",
        "    # Example\n",
        "        callbacks = [GetBest(monitor='val_acc', verbose=1, mode='max')]\n",
        "        mode.fit(X, y, validation_data=(X_eval, Y_eval),\n",
        "                 callbacks=callbacks)\n",
        "    \"\"\"\n",
        "\n",
        "    def __init__(self, monitor='val_loss', verbose=0,\n",
        "                 mode='auto', period=1):\n",
        "        super(GetBest, self).__init__()\n",
        "        self.monitor = monitor\n",
        "        self.verbose = verbose\n",
        "        self.period = period\n",
        "        self.best_epochs = 0\n",
        "        self.epochs_since_last_save = 0\n",
        "\n",
        "        if mode not in ['auto', 'min', 'max']:\n",
        "            warnings.warn('GetBest mode %s is unknown, '\n",
        "                          'fallback to auto mode.' % (mode),\n",
        "                          RuntimeWarning)\n",
        "            mode = 'auto'\n",
        "\n",
        "        if mode == 'min':\n",
        "            self.monitor_op = np.less\n",
        "            self.best = np.Inf\n",
        "        elif mode == 'max':\n",
        "            self.monitor_op = np.greater\n",
        "            self.best = -np.Inf\n",
        "        else:\n",
        "            if 'acc' in self.monitor or self.monitor.startswith('fmeasure'):\n",
        "                self.monitor_op = np.greater\n",
        "                self.best = -np.Inf\n",
        "            else:\n",
        "                self.monitor_op = np.less\n",
        "                self.best = np.Inf\n",
        "                \n",
        "    def on_train_begin(self, logs=None):\n",
        "        self.best_weights = self.model.get_weights()\n",
        "\n",
        "    def on_epoch_end(self, epoch, logs=None):\n",
        "        logs = logs or {}\n",
        "        self.epochs_since_last_save += 1\n",
        "        if self.epochs_since_last_save >= self.period:\n",
        "            self.epochs_since_last_save = 0\n",
        "            #filepath = self.filepath.format(epoch=epoch + 1, **logs)\n",
        "            current = logs.get(self.monitor)\n",
        "            if current is None:\n",
        "                warnings.warn('Can pick best model only with %s available, '\n",
        "                              'skipping.' % (self.monitor), RuntimeWarning)\n",
        "            else:\n",
        "                if self.monitor_op(current, self.best):\n",
        "                    if self.verbose > 0:\n",
        "                        print('\\nEpoch %05d: %s improved from %0.5f to %0.5f,'\n",
        "                              ' storing weights.'\n",
        "                              % (epoch + 1, self.monitor, self.best,\n",
        "                                 current))\n",
        "                    self.best = current\n",
        "                    self.best_epochs = epoch + 1\n",
        "                    self.best_weights = self.model.get_weights()\n",
        "                else:\n",
        "                    if self.verbose > 0:\n",
        "                        print('\\nEpoch %05d: %s did not improve' %\n",
        "                              (epoch + 1, self.monitor))            \n",
        "                    \n",
        "    def on_train_end(self, logs=None):\n",
        "        if self.verbose > 0:\n",
        "            print('Using epoch %05d with %s: %0.5f' % (self.best_epochs, self.monitor,\n",
        "                                                       self.best))\n",
        "        self.model.set_weights(self.best_weights)\n",
        "        \n",
        "from tensorflow.keras import backend as K\n",
        "\n",
        "def recall_m(y_true, y_pred):\n",
        "    true_positives = K.sum(K.round(K.clip(y_true * y_pred, 0, 1)))\n",
        "    possible_positives = K.sum(K.round(K.clip(y_true, 0, 1)))\n",
        "    recall = true_positives / (possible_positives + K.epsilon())\n",
        "    return recall\n",
        "\n",
        "def precision_m(y_true, y_pred):\n",
        "    true_positives = K.sum(K.round(K.clip(y_true * y_pred, 0, 1)))\n",
        "    predicted_positives = K.sum(K.round(K.clip(y_pred, 0, 1)))\n",
        "    precision = true_positives / (predicted_positives + K.epsilon())\n",
        "    return precision\n",
        "\n",
        "def f1_m(y_true, y_pred):\n",
        "    precision = precision_m(y_true, y_pred)\n",
        "    recall = recall_m(y_true, y_pred)\n",
        "    return 2*((precision*recall)/(precision+recall+K.epsilon()))"
      ],
      "execution_count": 12,
      "outputs": []
    },
    {
      "cell_type": "code",
      "metadata": {
        "id": "Y_wFkBrstHOc",
        "colab_type": "code",
        "colab": {
          "base_uri": "https://localhost:8080/",
          "height": 391
        },
        "outputId": "3b9ac09f-cd90-4e49-da40-7c326a0ec4c3"
      },
      "source": [
        "### Define the network\n",
        "# Different architectures have been tested but not rigorously. A grid search my help find optimal hyperparameters.\n",
        "\n",
        "n_variables = X_train.shape[1]\n",
        "print(\"Input tensor shape (examples, features):\", X_train.shape)\n",
        "\n",
        "# Create model\n",
        "def create_model():\n",
        "    model = keras.Sequential()\n",
        "    model.add(keras.layers.Dense(n_variables, input_dim=n_variables, activation='relu'))\n",
        "    model.add(keras.layers.Dense(n_variables*3, activation='relu',kernel_regularizer=keras.regularizers.l2(0.001)))\n",
        "    model.add(keras.layers.Dense(n_variables*2, activation='relu'))\n",
        "#     model.add(keras.layers.Dropout(rate=0.1, seed=1))\n",
        "    model.add(keras.layers.Dense(n_variables, activation='relu'))\n",
        "    model.add(keras.layers.Dense(n_variables, activation='relu'))\n",
        "#     model.add(keras.layers.Dropout(rate=0.1, seed=1))\n",
        "#     model.add(keras.layers.Dense(12, input_dim=n_variables, activation='relu'))\n",
        "    model.add(keras.layers.Dense(1, activation='sigmoid'))\n",
        "    # Compile model\n",
        "    model.compile(loss='binary_crossentropy', \n",
        "                  optimizer = keras.optimizers.Adamax(lr=0.001),\n",
        "                  metrics=['accuracy', f1_m, precision_m, recall_m])\n",
        "    \n",
        "    return model\n",
        "\n",
        "model = create_model()\n",
        "print(model.summary())"
      ],
      "execution_count": 13,
      "outputs": [
        {
          "output_type": "stream",
          "text": [
            "Input tensor shape (examples, features): (2391718, 8)\n",
            "Model: \"sequential\"\n",
            "_________________________________________________________________\n",
            "Layer (type)                 Output Shape              Param #   \n",
            "=================================================================\n",
            "dense (Dense)                (None, 8)                 72        \n",
            "_________________________________________________________________\n",
            "dense_1 (Dense)              (None, 24)                216       \n",
            "_________________________________________________________________\n",
            "dense_2 (Dense)              (None, 16)                400       \n",
            "_________________________________________________________________\n",
            "dense_3 (Dense)              (None, 8)                 136       \n",
            "_________________________________________________________________\n",
            "dense_4 (Dense)              (None, 8)                 72        \n",
            "_________________________________________________________________\n",
            "dense_5 (Dense)              (None, 1)                 9         \n",
            "=================================================================\n",
            "Total params: 905\n",
            "Trainable params: 905\n",
            "Non-trainable params: 0\n",
            "_________________________________________________________________\n",
            "None\n"
          ],
          "name": "stdout"
        }
      ]
    },
    {
      "cell_type": "code",
      "metadata": {
        "id": "UIEoTjlwtZkj",
        "colab_type": "code",
        "colab": {
          "base_uri": "https://localhost:8080/",
          "height": 608
        },
        "outputId": "6706fb0f-6890-47b8-fde3-2d52885ac2f7"
      },
      "source": [
        "### Train model, this will take some time\n",
        "# Note: this cell can be run again to train even more, as long as the model is not re-made, the optomizer will maintain its last state\n",
        "\n",
        "# Fit the model\n",
        "history = model.fit(X_train, Y_train, epochs=100, batch_size=10000 , \n",
        "                    callbacks=[plot, early_stop, GetBest(monitor='val_accuracy', verbose=1, mode='max') ], \n",
        "                    validation_data=(X_val, Y_val, ),\n",
        "#                     sample_weight = train_weights\n",
        "                   )"
      ],
      "execution_count": 14,
      "outputs": [
        {
          "output_type": "display_data",
          "data": {
            "image/png": "[encoded data removed]",
            "text/plain": [
              "<Figure size 1728x576 with 3 Axes>"
            ]
          },
          "metadata": {
            "tags": [],
            "needs_background": "light"
          }
        },
        {
          "output_type": "stream",
          "text": [
            "\n",
            "Epoch 00100: val_accuracy did not improve\n",
            "\b\b\b\b\b\b\b\b\b\b\b\b\b\b\b\b\b\b\b\b\b\b\b\b\b\b\b\b\b\b\b\b\b\b\b\b\b\b\b\b\b\b\b\b\b\b\b\b\b\b\b\b\b\b\b\b\b\b\b\b\b\b\b\b\b\b\b\b\b\b\b\b\b\b\b\b\b\b\b\b\b\b\b\b\b\b\b\b\b\b\b\b\b\b\b\b\b\b\b\b\b\b\b\b\b\b\b\b\b\b\b\b\b\b\b\b\b\b\b\b\b\b\b\b\b\b\b\b\b\b\b\b\b\b\b\b\b\b\b\b\r240/240 [==============================] - 2s 8ms/step - loss: 0.3257 - accuracy: 0.8597 - f1_m: 0.8559 - precision_m: 0.8793 - recall_m: 0.8338 - val_loss: 0.3249 - val_accuracy: 0.8597 - val_f1_m: 0.8559 - val_precision_m: 0.8813 - val_recall_m: 0.8319\n",
            "Using epoch 00088 with val_accuracy: 0.86016\n"
          ],
          "name": "stdout"
        }
      ]
    },
    {
      "cell_type": "code",
      "metadata": {
        "id": "8Vs1U382tdyl",
        "colab_type": "code",
        "colab": {
          "base_uri": "https://localhost:8080/",
          "height": 68
        },
        "outputId": "4d8a56cf-ed28-4176-a2aa-916b269833a2"
      },
      "source": [
        "# Rough evaluation of the model. See below for more precise metrics.\n",
        "scores = model.evaluate(X_val, Y_val)\n",
        "print(\"\\n%s: %.2f%%\" % (model.metrics_names[1], scores[1]*100))"
      ],
      "execution_count": 15,
      "outputs": [
        {
          "output_type": "stream",
          "text": [
            "18686/18686 [==============================] - 49s 3ms/step - loss: 0.3259 - accuracy: 0.8602 - f1_m: 0.8516 - precision_m: 0.8852 - recall_m: 0.8284\n",
            "\n",
            "accuracy: 86.02%\n"
          ],
          "name": "stdout"
        }
      ]
    },
    {
      "cell_type": "code",
      "metadata": {
        "id": "Y2TJNL0k0icg",
        "colab_type": "code",
        "colab": {
          "base_uri": "https://localhost:8080/",
          "height": 51
        },
        "outputId": "3f111fb0-a091-4224-8d88-06c7b780f73c"
      },
      "source": [
        "### Saving the model\n",
        "# Now that the model is trained, we want to save it in a format that lwtnn can use\n",
        "# the lwtnn converters prefer specific formats of network models and weights.\n",
        "# The lines below should save things correctly\n",
        "# dir_name = '/content/drive/My Drive/newhouse/Work/ATLAS/LRT/training/'\n",
        "\n",
        "# Create a time-stamped subdirectory to keep clean records\n",
        "model_dir = dir_name+'model/'+datetime.datetime.now().strftime('%Y%m%d_%H%M%S')\n",
        "if not os.path.isdir(model_dir):\n",
        "    os.makedirs(model_dir)\n",
        "\n",
        "# Save the architecture as json\n",
        "with open('{}/arch.json'.format(model_dir),'w') as archetecture:\n",
        "    archetecture.write(model.to_json(indent=2, sort_keys=True) )\n",
        "    \n",
        "# Save the weights as hdf5\n",
        "model.save_weights('{}/weights.h5'.format(model_dir), save_format='h5')\n",
        "\n",
        "# Save the variables (calculated in previous section)\n",
        "with open('{}/variables.json'.format(model_dir),'w') as variables:\n",
        "    variables.write(json.dumps(variables_json, indent=2))\n",
        "# print(\"variables.json written to {}\".format(model_dir))\n",
        "\n",
        "# Save the summary. Lwtnn doesn't require this but it can be good reference.\n",
        "with open('{}/summary.txt'.format(model_dir),'w') as summary:\n",
        "    model.summary(print_fn=lambda x: summary.write(x + '\\n'))\n",
        "\n",
        "# Additionally we can save the network in a format that Keras can pick up and use later\n",
        "# Note: the optimizer state cannot be saved, so the network cannot be trained on further\n",
        "# from its current state, but it can be used to evaluate new samples and analyze performance\n",
        "model.save('{}/model-keras.json'.format(model_dir))\n",
        "    \n",
        "print(\"Model saved to {}/\".format(model_dir))"
      ],
      "execution_count": 43,
      "outputs": [
        {
          "output_type": "stream",
          "text": [
            "INFO:tensorflow:Assets written to: /content/drive/My Drive/newhouse/Work/ATLAS/LRT/training/model/20200709_175717/model-keras.json/assets\n",
            "Model saved to /content/drive/My Drive/newhouse/Work/ATLAS/LRT/training/model/20200709_175717/\n"
          ],
          "name": "stdout"
        }
      ]
    },
    {
      "cell_type": "code",
      "metadata": {
        "id": "N-HdT4WH3glB",
        "colab_type": "code",
        "colab": {
          "base_uri": "https://localhost:8080/",
          "height": 88
        },
        "outputId": "0bde2bf6-53c9-4268-9434-52175e8041bd"
      },
      "source": [
        "# We can take care of converting the network to lwtnn format right here\n",
        "# Note: This converter is slightly different than the one the current version of lwtnn at the time of this writing\n",
        "# I needed to make a small change in the structure of the converter.\n",
        "# k2j = './converters/keras2json.py'\n",
        "k2j = dir_name.replace(' ', '\\ ')+'converters/keras2json.py'\n",
        "k2j_command = k2j + \" {0}/arch.json {0}/variables.json {0}/weights.h5 > {0}/nn-config.json\".format((model_dir.replace(' ', '\\ ')))\n",
        "print(k2j_command)\n",
        "os.system('chmod +x '+ k2j)\n",
        "if(os.system(k2j_command) == 0): print(\"Success, model saved in lwtnn format\\n{}/nn-config.json\".format(model_dir.replace(' ', '\\ ')))\n",
        "else: print(\"Failed to save model\")\n",
        "    "
      ],
      "execution_count": 52,
      "outputs": [
        {
          "output_type": "stream",
          "text": [
            "/content/drive/My\\ Drive/newhouse/Work/ATLAS/LRT/training/converters/keras2json.py /content/drive/My\\ Drive/newhouse/Work/ATLAS/LRT/training/model/20200709_175717/arch.json /content/drive/My\\ Drive/newhouse/Work/ATLAS/LRT/training/model/20200709_175717/variables.json /content/drive/My\\ Drive/newhouse/Work/ATLAS/LRT/training/model/20200709_175717/weights.h5 > /content/drive/My\\ Drive/newhouse/Work/ATLAS/LRT/training/model/20200709_175717/nn-config.json\n",
            "Success, model saved in lwtnn format\n",
            "/content/drive/My\\ Drive/newhouse/Work/ATLAS/LRT/training/model/20200709_175717/nn-config.json\n"
          ],
          "name": "stdout"
        }
      ]
    },
    {
      "cell_type": "code",
      "metadata": {
        "id": "pmyP5AUa42sJ",
        "colab_type": "code",
        "colab": {
          "base_uri": "https://localhost:8080/",
          "height": 51
        },
        "outputId": "18d52eef-914e-40c3-c66f-1be32ab36a89"
      },
      "source": [
        "### Evaluate the network's performance\n",
        "# Now we can look in-depth at the performance of the neural network in separating the classes\n",
        "# Remember however that this is only a proxy to the true metric of performance: efficiency and fake rate\n",
        "# in athena's track reconstruction algorithm. That depends on relative ordering and cannot be evaluated here\n",
        "# We can however measure the discrimination power and assume that it translates to preferred ordering.\n",
        "\n",
        "# evaluate predictions\n",
        "predictions = model.predict(X_val)\n",
        "print(\"predictions finished\")\n",
        "predictions_cut = predictions>0.5\n",
        "print(\"cut finished\")"
      ],
      "execution_count": 53,
      "outputs": [
        {
          "output_type": "stream",
          "text": [
            "predictions finished\n",
            "cut finished\n"
          ],
          "name": "stdout"
        }
      ]
    },
    {
      "cell_type": "code",
      "metadata": {
        "id": "1A2y0nju5S2F",
        "colab_type": "code",
        "colab": {
          "base_uri": "https://localhost:8080/",
          "height": 153
        },
        "outputId": "dc717dfa-d255-4d17-e95a-01558c908660"
      },
      "source": [
        "# It can be useful when comparing models later on to save additional performance stats to the model directory\n",
        "# https://towardsdatascience.com/metrics-to-evaluate-your-machine-learning-algorithm-f10ba6e38234\n",
        "model_performance = {}\n",
        "    \n",
        "model_performance['accuracy_score'] = accuracy_score(y_true=Y_val, y_pred=predictions_cut)\n",
        "print(\"Accuracy %.4f\" % model_performance['accuracy_score'])\n",
        "model_performance['f1_score'] = f1_score(y_true=Y_val, y_pred=predictions_cut)\n",
        "print(\"F1 Score %.4f\" % model_performance['f1_score'])\n",
        "model_performance['precision_score'] = precision_score(y_true=Y_val, y_pred=predictions_cut)\n",
        "print(\"Precision %.4f\" % model_performance['precision_score'])\n",
        "model_performance['recall_score'] = recall_score(y_true=Y_val, y_pred=predictions_cut)\n",
        "print(\"Recall %.4f\" % model_performance['recall_score'])\n",
        "model_performance['confusion_matrix'] = confusion_matrix(y_true=Y_val, y_pred=predictions_cut)\n",
        "print(\"Confusion Matrix: \\n\", model_performance['confusion_matrix'])    \n",
        "\n",
        "with open('{}/model_performance.json'.format(model_dir),'w') as model_performance_file:\n",
        "    json.dump(str(model_performance), model_performance_file)\n",
        "print(\"saved to {}/model_performance.json\".format(model_dir))"
      ],
      "execution_count": 54,
      "outputs": [
        {
          "output_type": "stream",
          "text": [
            "Accuracy 0.8602\n",
            "F1 Score 0.8557\n",
            "Precision 0.8851\n",
            "Recall 0.8282\n",
            "Confusion Matrix: \n",
            " [[266346  32179]\n",
            " [ 51434 247971]]\n",
            "saved to /content/drive/My Drive/newhouse/Work/ATLAS/LRT/training/model/20200709_175717/model_performance.json\n"
          ],
          "name": "stdout"
        }
      ]
    },
    {
      "cell_type": "code",
      "metadata": {
        "id": "UeZ_GLgp5Wm0",
        "colab_type": "code",
        "colab": {
          "base_uri": "https://localhost:8080/",
          "height": 428
        },
        "outputId": "c53855ff-0cd6-4b30-e947-7a2d6a06c3d5"
      },
      "source": [
        "# Visualize the NN dicriminant evaluated on good and fake tracks\n",
        "\n",
        "pred_good = predictions[Y_val.flatten() == 1]\n",
        "pred_fake = predictions[Y_val.flatten() == 0]\n",
        "\n",
        "fig, ax1 = plt.subplots(1, 1,figsize=(10,6))\n",
        "x = [pred_good, pred_fake]\n",
        "edgecolors = ['#4C72B0','#55A868']\n",
        "for i in [0,1]:\n",
        "    ax1.hist(x[i], edgecolor=edgecolors[i], histtype='step', linewidth=2.5, alpha=0.85, density=1, bins = np.linspace(0,1,60))\n",
        "ax1.set_xlabel(\"Value\", fontsize=12)\n",
        "ax1.set_ylabel(\"Tracks\", fontsize=12)\n",
        "ax1.set_title(\"NN precidction\", fontsize=18)\n",
        "ax1.legend(['good', 'fake'], loc='upper center')\n",
        "# ax1.set_yscale('log')\n",
        "ymin, ymax = plt.ylim()\n",
        "plt.ylim(ymin,ymax*1.1)\n",
        "plt.show()\n",
        "plt.savefig('{}/discriminant.png'.format(model_dir),)\n",
        "\n",
        "# From a previous study where we would cut on some nn value to remove fakes\n",
        "# for cut in [0.05,0.1,0.2,0.5,0.8]:\n",
        "#     total_fake = len(pred_fake)\n",
        "#     remaining_fake = len(pred_fake[pred_fake>=cut])\n",
        "#     print(\"Cutting at {}: remaining fakes: {:.2%}\".format(cut, remaining_fake/total_fake))\n",
        "#     total_good = len(pred_good)\n",
        "#     remaining_good = len(pred_good[pred_good>=cut])\n",
        "#     print(\"                remaining goods: {:.2%}\".format(remaining_good/total_good))\n",
        "    "
      ],
      "execution_count": 55,
      "outputs": [
        {
          "output_type": "display_data",
          "data": {
            "image/png": "[encoded data removed]",
            "text/plain": [
              "<Figure size 720x432 with 1 Axes>"
            ]
          },
          "metadata": {
            "tags": [],
            "needs_background": "light"
          }
        },
        {
          "output_type": "display_data",
          "data": {
            "text/plain": [
              "<Figure size 432x288 with 0 Axes>"
            ]
          },
          "metadata": {
            "tags": []
          }
        }
      ]
    },
    {
      "cell_type": "code",
      "metadata": {
        "id": "g6Z5dgMx58AL",
        "colab_type": "code",
        "colab": {
          "base_uri": "https://localhost:8080/",
          "height": 421
        },
        "outputId": "f05577cc-ddff-4d6a-93e7-58cb7d22314e"
      },
      "source": [
        "# Plotting the ROC curve\n",
        "# https://www.dlology.com/blog/simple-guide-on-how-to-generate-roc-plot-for-keras-classifier/\n",
        "from sklearn.metrics import roc_curve\n",
        "y_pred_keras = predictions.ravel()\n",
        "fpr_keras, tpr_keras, thresholds_keras = roc_curve(Y_val, y_pred_keras)\n",
        "\n",
        "from sklearn.metrics import auc\n",
        "auc_keras = auc(fpr_keras, tpr_keras)\n",
        "\n",
        "plt.figure(1, (10,6))\n",
        "plt.plot([0, 1], [0, 1], 'k--')\n",
        "plt.plot(fpr_keras, tpr_keras, label='Keras (area = {:.3f})'.format(auc_keras))\n",
        "# plt.plot(fpr_rf, tpr_rf, label='RF (area = {:.3f})'.format(auc_rf))\n",
        "plt.xlabel('False positive rate')\n",
        "plt.ylabel('True positive rate')\n",
        "plt.title('ROC curve')\n",
        "plt.legend(loc='best')\n",
        "plt.show()\n",
        "plt.savefig('{}/roc.png'.format(model_dir),)\n",
        "# # Zoom in view of the upper left corner.\n",
        "# plt.figure(2, (10,6))\n",
        "# plt.xlim(0, 0.2)\n",
        "# plt.ylim(0.8, 1)\n",
        "# plt.plot([0, 1], [0, 1], 'k--')\n",
        "# plt.plot(fpr_keras, tpr_keras, label='Keras (area = {:.3f})'.format(auc_keras))\n",
        "# # plt.plot(fpr_rf, tpr_rf, label='RF (area = {:.3f})'.format(auc_rf))\n",
        "# plt.xlabel('False positive rate')\n",
        "# plt.ylabel('True positive rate')\n",
        "# plt.title('ROC curve (zoomed in at top left)')\n",
        "# plt.legend(loc='best')\n",
        "# plt.show()"
      ],
      "execution_count": 56,
      "outputs": [
        {
          "output_type": "display_data",
          "data": {
            "image/png": "[encoded data removed]",
            "text/plain": [
              "<Figure size 720x432 with 1 Axes>"
            ]
          },
          "metadata": {
            "tags": [],
            "needs_background": "light"
          }
        },
        {
          "output_type": "display_data",
          "data": {
            "text/plain": [
              "<Figure size 432x288 with 0 Axes>"
            ]
          },
          "metadata": {
            "tags": []
          }
        }
      ]
    },
    {
      "cell_type": "code",
      "metadata": {
        "id": "4sb5ersKvHj6",
        "colab_type": "code",
        "colab": {
          "base_uri": "https://localhost:8080/",
          "height": 294
        },
        "outputId": "334123b1-058d-44ad-a3ec-14201c216201"
      },
      "source": [
        "!pip install eli5"
      ],
      "execution_count": 58,
      "outputs": [
        {
          "output_type": "stream",
          "text": [
            "Collecting eli5\n",
            "\u001b[?25l  Downloading https://files.pythonhosted.org/packages/97/2f/c85c7d8f8548e460829971785347e14e45fa5c6617da374711dec8cb38cc/eli5-0.10.1-py2.py3-none-any.whl (105kB)\n",
            "\r\u001b[K     |███                             | 10kB 19.8MB/s eta 0:00:01\r\u001b[K     |██████▏                         | 20kB 3.1MB/s eta 0:00:01\r\u001b[K     |█████████▎                      | 30kB 3.3MB/s eta 0:00:01\r\u001b[K     |████████████▍                   | 40kB 3.7MB/s eta 0:00:01\r\u001b[K     |███████████████▌                | 51kB 3.7MB/s eta 0:00:01\r\u001b[K     |██████████████████▋             | 61kB 4.2MB/s eta 0:00:01\r\u001b[K     |█████████████████████▊          | 71kB 4.3MB/s eta 0:00:01\r\u001b[K     |████████████████████████▊       | 81kB 4.7MB/s eta 0:00:01\r\u001b[K     |███████████████████████████▉    | 92kB 4.4MB/s eta 0:00:01\r\u001b[K     |███████████████████████████████ | 102kB 4.7MB/s eta 0:00:01\r\u001b[K     |████████████████████████████████| 112kB 4.7MB/s \n",
            "\u001b[?25hRequirement already satisfied: scikit-learn>=0.18 in /usr/local/lib/python3.6/dist-packages (from eli5) (0.22.2.post1)\n",
            "Requirement already satisfied: jinja2 in /usr/local/lib/python3.6/dist-packages (from eli5) (2.11.2)\n",
            "Requirement already satisfied: graphviz in /usr/local/lib/python3.6/dist-packages (from eli5) (0.10.1)\n",
            "Requirement already satisfied: numpy>=1.9.0 in /usr/local/lib/python3.6/dist-packages (from eli5) (1.18.5)\n",
            "Requirement already satisfied: attrs>16.0.0 in /usr/local/lib/python3.6/dist-packages (from eli5) (19.3.0)\n",
            "Requirement already satisfied: six in /usr/local/lib/python3.6/dist-packages (from eli5) (1.12.0)\n",
            "Requirement already satisfied: tabulate>=0.7.7 in /usr/local/lib/python3.6/dist-packages (from eli5) (0.8.7)\n",
            "Requirement already satisfied: scipy in /usr/local/lib/python3.6/dist-packages (from eli5) (1.4.1)\n",
            "Requirement already satisfied: joblib>=0.11 in /usr/local/lib/python3.6/dist-packages (from scikit-learn>=0.18->eli5) (0.15.1)\n",
            "Requirement already satisfied: MarkupSafe>=0.23 in /usr/local/lib/python3.6/dist-packages (from jinja2->eli5) (1.1.1)\n",
            "Installing collected packages: eli5\n",
            "Successfully installed eli5-0.10.1\n"
          ],
          "name": "stdout"
        }
      ]
    },
    {
      "cell_type": "code",
      "metadata": {
        "id": "CZKSSvkW6sa2",
        "colab_type": "code",
        "colab": {
          "base_uri": "https://localhost:8080/",
          "height": 156
        },
        "outputId": "176d2065-6afc-417e-e763-8c12ed98a8d6"
      },
      "source": [
        "# Permutation importance. i.e. which features were the most important\n",
        "# https://www.kaggle.com/dansbecker/permutation-importance\n",
        "import eli5\n",
        "from eli5.sklearn import PermutationImportance\n",
        "Y_df = pd.DataFrame(Y_val.ravel() == 1, columns=label_names)\n",
        "X_df = pd.DataFrame(X_val, columns=inputs_names)\n",
        "print(Y_df.values.flatten().shape)\n",
        "print(X_df.shape)"
      ],
      "execution_count": 59,
      "outputs": [
        {
          "output_type": "stream",
          "text": [
            "/usr/local/lib/python3.6/dist-packages/sklearn/utils/deprecation.py:144: FutureWarning: The sklearn.metrics.scorer module is  deprecated in version 0.22 and will be removed in version 0.24. The corresponding classes / functions should instead be imported from sklearn.metrics. Anything that cannot be imported from sklearn.metrics is now part of the private API.\n",
            "  warnings.warn(message, FutureWarning)\n",
            "/usr/local/lib/python3.6/dist-packages/sklearn/utils/deprecation.py:144: FutureWarning: The sklearn.feature_selection.base module is  deprecated in version 0.22 and will be removed in version 0.24. The corresponding classes / functions should instead be imported from sklearn.feature_selection. Anything that cannot be imported from sklearn.feature_selection is now part of the private API.\n",
            "  warnings.warn(message, FutureWarning)\n",
            "Using TensorFlow backend.\n"
          ],
          "name": "stderr"
        },
        {
          "output_type": "stream",
          "text": [
            "(597930,)\n",
            "(597930, 8)\n"
          ],
          "name": "stdout"
        }
      ]
    },
    {
      "cell_type": "code",
      "metadata": {
        "id": "OW7kNRjI6yQd",
        "colab_type": "code",
        "colab": {
          "base_uri": "https://localhost:8080/",
          "height": 136
        },
        "outputId": "e1603be5-f185-4084-9f9c-d5e4c2a37ecb"
      },
      "source": [
        "from keras.wrappers.scikit_learn import KerasClassifier, KerasRegressor\n",
        "\n",
        "my_model = KerasClassifier(build_fn=create_model)    \n",
        "my_model.fit(X_train,Y_train, epochs=3, batch_size = 500)"
      ],
      "execution_count": 60,
      "outputs": [
        {
          "output_type": "stream",
          "text": [
            "Epoch 1/3\n",
            "4784/4784 [==============================] - 19s 4ms/step - loss: 0.4580 - accuracy: 0.8002 - f1_m: 0.7887 - precision_m: 0.8172 - recall_m: 0.7738\n",
            "Epoch 2/3\n",
            "4784/4784 [==============================] - 19s 4ms/step - loss: 0.3556 - accuracy: 0.8463 - f1_m: 0.8432 - precision_m: 0.8595 - recall_m: 0.8287\n",
            "Epoch 3/3\n",
            "4784/4784 [==============================] - 19s 4ms/step - loss: 0.3433 - accuracy: 0.8528 - f1_m: 0.8494 - precision_m: 0.8683 - recall_m: 0.8323\n"
          ],
          "name": "stdout"
        },
        {
          "output_type": "execute_result",
          "data": {
            "text/plain": [
              "<tensorflow.python.keras.callbacks.History at 0x7fde2a723160>"
            ]
          },
          "metadata": {
            "tags": []
          },
          "execution_count": 60
        }
      ]
    },
    {
      "cell_type": "code",
      "metadata": {
        "id": "sn3uHaRS63FX",
        "colab_type": "code",
        "colab": {
          "base_uri": "https://localhost:8080/",
          "height": 740
        },
        "outputId": "866829df-592c-411a-e5dd-68a51f8132fc"
      },
      "source": [
        "perm = PermutationImportance(my_model, random_state=1).fit(X_val,Y_val, epochs=3, batch_size = 100000)"
      ],
      "execution_count": 81,
      "outputs": [
        {
          "output_type": "stream",
          "text": [
            "18686/18686 [==============================] - 51s 3ms/step - loss: 0.3470 - accuracy: 0.8514 - f1_m: 0.8421 - precision_m: 0.8768 - recall_m: 0.8184\n",
            "18686/18686 [==============================] - 52s 3ms/step - loss: 0.4377 - accuracy: 0.8089 - f1_m: 0.7942 - precision_m: 0.8413 - recall_m: 0.7621\n",
            "18686/18686 [==============================] - 50s 3ms/step - loss: 0.4915 - accuracy: 0.7692 - f1_m: 0.7585 - precision_m: 0.7823 - recall_m: 0.7475\n",
            "18686/18686 [==============================] - 50s 3ms/step - loss: 0.4385 - accuracy: 0.8092 - f1_m: 0.8021 - precision_m: 0.8167 - recall_m: 0.7982\n",
            "18686/18686 [==============================] - 51s 3ms/step - loss: 0.3771 - accuracy: 0.8354 - f1_m: 0.8282 - precision_m: 0.8475 - recall_m: 0.8188\n",
            "18686/18686 [==============================] - 50s 3ms/step - loss: 0.3508 - accuracy: 0.8503 - f1_m: 0.8405 - precision_m: 0.8780 - recall_m: 0.8144\n",
            "18686/18686 [==============================] - 49s 3ms/step - loss: 0.3693 - accuracy: 0.8400 - f1_m: 0.8334 - precision_m: 0.8508 - recall_m: 0.8257\n",
            "18686/18686 [==============================] - 50s 3ms/step - loss: 0.4129 - accuracy: 0.8226 - f1_m: 0.8098 - precision_m: 0.8534 - recall_m: 0.7798\n",
            "18686/18686 [==============================] - 49s 3ms/step - loss: 0.4141 - accuracy: 0.8183 - f1_m: 0.8057 - precision_m: 0.8463 - recall_m: 0.7784\n",
            "18686/18686 [==============================] - 49s 3ms/step - loss: 0.4383 - accuracy: 0.8081 - f1_m: 0.7935 - precision_m: 0.8408 - recall_m: 0.7612\n",
            "18686/18686 [==============================] - 48s 3ms/step - loss: 0.4918 - accuracy: 0.7691 - f1_m: 0.7583 - precision_m: 0.7817 - recall_m: 0.7474\n",
            "18686/18686 [==============================] - 47s 3ms/step - loss: 0.4385 - accuracy: 0.8090 - f1_m: 0.8019 - precision_m: 0.8164 - recall_m: 0.7980\n",
            "18686/18686 [==============================] - 48s 3ms/step - loss: 0.3773 - accuracy: 0.8353 - f1_m: 0.8281 - precision_m: 0.8471 - recall_m: 0.8189\n",
            "18686/18686 [==============================] - 48s 3ms/step - loss: 0.3508 - accuracy: 0.8500 - f1_m: 0.8402 - precision_m: 0.8776 - recall_m: 0.8143\n",
            "18686/18686 [==============================] - 49s 3ms/step - loss: 0.3694 - accuracy: 0.8398 - f1_m: 0.8332 - precision_m: 0.8506 - recall_m: 0.8255\n",
            "18686/18686 [==============================] - 47s 3ms/step - loss: 0.4122 - accuracy: 0.8230 - f1_m: 0.8099 - precision_m: 0.8539 - recall_m: 0.7797\n",
            "18686/18686 [==============================] - 47s 3ms/step - loss: 0.4144 - accuracy: 0.8182 - f1_m: 0.8058 - precision_m: 0.8458 - recall_m: 0.7790\n",
            "18686/18686 [==============================] - 47s 3ms/step - loss: 0.4367 - accuracy: 0.8094 - f1_m: 0.7948 - precision_m: 0.8414 - recall_m: 0.7632\n",
            "18686/18686 [==============================] - 47s 2ms/step - loss: 0.4917 - accuracy: 0.7693 - f1_m: 0.7586 - precision_m: 0.7820 - recall_m: 0.7480\n",
            "18686/18686 [==============================] - 47s 3ms/step - loss: 0.4383 - accuracy: 0.8088 - f1_m: 0.8018 - precision_m: 0.8158 - recall_m: 0.7986\n",
            "18686/18686 [==============================] - 48s 3ms/step - loss: 0.3774 - accuracy: 0.8350 - f1_m: 0.8278 - precision_m: 0.8472 - recall_m: 0.8183\n",
            "18686/18686 [==============================] - 47s 3ms/step - loss: 0.3508 - accuracy: 0.8501 - f1_m: 0.8402 - precision_m: 0.8777 - recall_m: 0.8142\n",
            "18686/18686 [==============================] - 47s 3ms/step - loss: 0.3692 - accuracy: 0.8397 - f1_m: 0.8332 - precision_m: 0.8505 - recall_m: 0.8254\n",
            "18686/18686 [==============================] - 47s 3ms/step - loss: 0.4123 - accuracy: 0.8225 - f1_m: 0.8095 - precision_m: 0.8535 - recall_m: 0.7794\n",
            "18686/18686 [==============================] - 47s 3ms/step - loss: 0.4142 - accuracy: 0.8182 - f1_m: 0.8058 - precision_m: 0.8457 - recall_m: 0.7791\n",
            "18686/18686 [==============================] - 47s 3ms/step - loss: 0.4379 - accuracy: 0.8084 - f1_m: 0.7937 - precision_m: 0.8406 - recall_m: 0.7618\n",
            "18686/18686 [==============================] - 47s 3ms/step - loss: 0.4930 - accuracy: 0.7685 - f1_m: 0.7576 - precision_m: 0.7814 - recall_m: 0.7466\n",
            "18686/18686 [==============================] - 48s 3ms/step - loss: 0.4383 - accuracy: 0.8095 - f1_m: 0.8024 - precision_m: 0.8168 - recall_m: 0.7985\n",
            "18686/18686 [==============================] - 47s 3ms/step - loss: 0.3771 - accuracy: 0.8354 - f1_m: 0.8282 - precision_m: 0.8477 - recall_m: 0.8187\n",
            "18686/18686 [==============================] - 47s 3ms/step - loss: 0.3508 - accuracy: 0.8500 - f1_m: 0.8402 - precision_m: 0.8776 - recall_m: 0.8143\n",
            "18686/18686 [==============================] - 47s 2ms/step - loss: 0.3690 - accuracy: 0.8401 - f1_m: 0.8336 - precision_m: 0.8508 - recall_m: 0.8258\n",
            "18686/18686 [==============================] - 47s 3ms/step - loss: 0.4122 - accuracy: 0.8227 - f1_m: 0.8100 - precision_m: 0.8537 - recall_m: 0.7800\n",
            "18686/18686 [==============================] - 47s 2ms/step - loss: 0.4140 - accuracy: 0.8184 - f1_m: 0.8060 - precision_m: 0.8459 - recall_m: 0.7793\n",
            "18686/18686 [==============================] - 47s 3ms/step - loss: 0.4377 - accuracy: 0.8087 - f1_m: 0.7943 - precision_m: 0.8405 - recall_m: 0.7629\n",
            "18686/18686 [==============================] - 48s 3ms/step - loss: 0.4906 - accuracy: 0.7698 - f1_m: 0.7592 - precision_m: 0.7824 - recall_m: 0.7487\n",
            "18686/18686 [==============================] - 46s 2ms/step - loss: 0.4376 - accuracy: 0.8099 - f1_m: 0.8029 - precision_m: 0.8178 - recall_m: 0.7987\n",
            "18686/18686 [==============================] - 47s 3ms/step - loss: 0.3774 - accuracy: 0.8354 - f1_m: 0.8282 - precision_m: 0.8476 - recall_m: 0.8187\n",
            "18686/18686 [==============================] - 47s 2ms/step - loss: 0.3508 - accuracy: 0.8503 - f1_m: 0.8405 - precision_m: 0.8779 - recall_m: 0.8145\n",
            "18686/18686 [==============================] - 47s 2ms/step - loss: 0.3684 - accuracy: 0.8401 - f1_m: 0.8335 - precision_m: 0.8508 - recall_m: 0.8257\n",
            "18686/18686 [==============================] - 47s 2ms/step - loss: 0.4121 - accuracy: 0.8231 - f1_m: 0.8101 - precision_m: 0.8544 - recall_m: 0.7797\n",
            "18686/18686 [==============================] - 48s 3ms/step - loss: 0.4137 - accuracy: 0.8183 - f1_m: 0.8056 - precision_m: 0.8463 - recall_m: 0.7784\n"
          ],
          "name": "stdout"
        }
      ]
    },
    {
      "cell_type": "code",
      "metadata": {
        "id": "N3PDKDhZ7LJK",
        "colab_type": "code",
        "colab": {
          "base_uri": "https://localhost:8080/",
          "height": 171
        },
        "outputId": "41fda24b-b123-495d-9a36-9c62c65f6f65"
      },
      "source": [
        "eli5.show_weights(perm, feature_names = X_df.columns.tolist(), top=100)"
      ],
      "execution_count": 82,
      "outputs": [
        {
          "output_type": "execute_result",
          "data": {
            "text/html": [
              "\n",
              "    <style>\n",
              "    table.eli5-weights tr:hover {\n",
              "        filter: brightness(85%);\n",
              "    }\n",
              "</style>\n",
              "\n",
              "\n",
              "\n",
              "    \n",
              "\n",
              "    \n",
              "\n",
              "    \n",
              "\n",
              "    \n",
              "\n",
              "    \n",
              "\n",
              "    \n",
              "\n",
              "\n",
              "    \n",
              "\n",
              "    \n",
              "\n",
              "    \n",
              "\n",
              "    \n",
              "\n",
              "    \n",
              "\n",
              "    \n",
              "\n",
              "\n",
              "    \n",
              "\n",
              "    \n",
              "\n",
              "    \n",
              "\n",
              "    \n",
              "\n",
              "    \n",
              "        <table class=\"eli5-weights eli5-feature-importances\" style=\"border-collapse: collapse; border: none; margin-top: 0em; table-layout: auto;\">\n",
              "    <thead>\n",
              "    <tr style=\"border: none;\">\n",
              "        <th style=\"padding: 0 1em 0 0.5em; text-align: right; border: none;\">Weight</th>\n",
              "        <th style=\"padding: 0 0.5em 0 0.5em; text-align: left; border: none;\">Feature</th>\n",
              "    </tr>\n",
              "    </thead>\n",
              "    <tbody>\n",
              "    \n",
              "        <tr style=\"background-color: hsl(120, 100.00%, 80.00%); border: none;\">\n",
              "            <td style=\"padding: 0 1em 0 0.5em; text-align: right; border: none;\">\n",
              "                0.0822\n",
              "                \n",
              "                    &plusmn; 0.0008\n",
              "                \n",
              "            </td>\n",
              "            <td style=\"padding: 0 0.5em 0 0.5em; text-align: left; border: none;\">\n",
              "                d0\n",
              "            </td>\n",
              "        </tr>\n",
              "    \n",
              "        <tr style=\"background-color: hsl(120, 100.00%, 87.36%); border: none;\">\n",
              "            <td style=\"padding: 0 1em 0 0.5em; text-align: right; border: none;\">\n",
              "                0.0427\n",
              "                \n",
              "                    &plusmn; 0.0009\n",
              "                \n",
              "            </td>\n",
              "            <td style=\"padding: 0 0.5em 0 0.5em; text-align: left; border: none;\">\n",
              "                z0\n",
              "            </td>\n",
              "        </tr>\n",
              "    \n",
              "        <tr style=\"background-color: hsl(120, 100.00%, 87.48%); border: none;\">\n",
              "            <td style=\"padding: 0 1em 0 0.5em; text-align: right; border: none;\">\n",
              "                0.0421\n",
              "                \n",
              "                    &plusmn; 0.0008\n",
              "                \n",
              "            </td>\n",
              "            <td style=\"padding: 0 0.5em 0 0.5em; text-align: left; border: none;\">\n",
              "                numberOfSCTHits\n",
              "            </td>\n",
              "        </tr>\n",
              "    \n",
              "        <tr style=\"background-color: hsl(120, 100.00%, 89.42%); border: none;\">\n",
              "            <td style=\"padding: 0 1em 0 0.5em; text-align: right; border: none;\">\n",
              "                0.0331\n",
              "                \n",
              "                    &plusmn; 0.0002\n",
              "                \n",
              "            </td>\n",
              "            <td style=\"padding: 0 0.5em 0 0.5em; text-align: left; border: none;\">\n",
              "                numberOfSCTHoles\n",
              "            </td>\n",
              "        </tr>\n",
              "    \n",
              "        <tr style=\"background-color: hsl(120, 100.00%, 90.45%); border: none;\">\n",
              "            <td style=\"padding: 0 1em 0 0.5em; text-align: right; border: none;\">\n",
              "                0.0286\n",
              "                \n",
              "                    &plusmn; 0.0004\n",
              "                \n",
              "            </td>\n",
              "            <td style=\"padding: 0 0.5em 0 0.5em; text-align: left; border: none;\">\n",
              "                geometric_var\n",
              "            </td>\n",
              "        </tr>\n",
              "    \n",
              "        <tr style=\"background-color: hsl(120, 100.00%, 93.62%); border: none;\">\n",
              "            <td style=\"padding: 0 1em 0 0.5em; text-align: right; border: none;\">\n",
              "                0.0161\n",
              "                \n",
              "                    &plusmn; 0.0003\n",
              "                \n",
              "            </td>\n",
              "            <td style=\"padding: 0 0.5em 0 0.5em; text-align: left; border: none;\">\n",
              "                Sihits\n",
              "            </td>\n",
              "        </tr>\n",
              "    \n",
              "        <tr style=\"background-color: hsl(120, 100.00%, 94.98%); border: none;\">\n",
              "            <td style=\"padding: 0 1em 0 0.5em; text-align: right; border: none;\">\n",
              "                0.0114\n",
              "                \n",
              "                    &plusmn; 0.0003\n",
              "                \n",
              "            </td>\n",
              "            <td style=\"padding: 0 0.5em 0 0.5em; text-align: left; border: none;\">\n",
              "                numberDoF\n",
              "            </td>\n",
              "        </tr>\n",
              "    \n",
              "        <tr style=\"background-color: hsl(120, 100.00%, 98.94%); border: none;\">\n",
              "            <td style=\"padding: 0 1em 0 0.5em; text-align: right; border: none;\">\n",
              "                0.0012\n",
              "                \n",
              "                    &plusmn; 0.0002\n",
              "                \n",
              "            </td>\n",
              "            <td style=\"padding: 0 0.5em 0 0.5em; text-align: left; border: none;\">\n",
              "                eta\n",
              "            </td>\n",
              "        </tr>\n",
              "    \n",
              "    \n",
              "    </tbody>\n",
              "</table>\n",
              "    \n",
              "\n",
              "    \n",
              "\n",
              "\n",
              "    \n",
              "\n",
              "    \n",
              "\n",
              "    \n",
              "\n",
              "    \n",
              "\n",
              "    \n",
              "\n",
              "    \n",
              "\n",
              "\n",
              "\n"
            ],
            "text/plain": [
              "<IPython.core.display.HTML object>"
            ]
          },
          "metadata": {
            "tags": []
          },
          "execution_count": 82
        }
      ]
    },
    {
      "cell_type": "code",
      "metadata": {
        "id": "IhLoXxtP8gdg",
        "colab_type": "code",
        "colab": {}
      },
      "source": [
        "predictions = model.predict(X_val)\n"
      ],
      "execution_count": 62,
      "outputs": []
    },
    {
      "cell_type": "code",
      "metadata": {
        "id": "eiGcJZsO8zqn",
        "colab_type": "code",
        "colab": {}
      },
      "source": [
        "test_set = pd.DataFrame(X_val, columns=inputs_names)\n",
        "do_scale = True"
      ],
      "execution_count": 63,
      "outputs": []
    },
    {
      "cell_type": "code",
      "metadata": {
        "id": "YKrfZtb3DyJc",
        "colab_type": "code",
        "colab": {}
      },
      "source": [
        "test_set['predictions'] = predictions.ravel()\n",
        "test_set['truth'] = Y_val.ravel()\n"
      ],
      "execution_count": 64,
      "outputs": []
    },
    {
      "cell_type": "code",
      "metadata": {
        "id": "swqA8aiNEEAX",
        "colab_type": "code",
        "colab": {
          "base_uri": "https://localhost:8080/",
          "height": 419
        },
        "outputId": "3940cae0-6578-4784-de98-aeb08601e907"
      },
      "source": [
        "test_set"
      ],
      "execution_count": 65,
      "outputs": [
        {
          "output_type": "execute_result",
          "data": {
            "text/html": [
              "<div>\n",
              "<style scoped>\n",
              "    .dataframe tbody tr th:only-of-type {\n",
              "        vertical-align: middle;\n",
              "    }\n",
              "\n",
              "    .dataframe tbody tr th {\n",
              "        vertical-align: top;\n",
              "    }\n",
              "\n",
              "    .dataframe thead th {\n",
              "        text-align: right;\n",
              "    }\n",
              "</style>\n",
              "<table border=\"1\" class=\"dataframe\">\n",
              "  <thead>\n",
              "    <tr style=\"text-align: right;\">\n",
              "      <th></th>\n",
              "      <th>z0</th>\n",
              "      <th>d0</th>\n",
              "      <th>numberOfSCTHits</th>\n",
              "      <th>Sihits</th>\n",
              "      <th>eta</th>\n",
              "      <th>numberDoF</th>\n",
              "      <th>geometric_var</th>\n",
              "      <th>numberOfSCTHoles</th>\n",
              "      <th>predictions</th>\n",
              "      <th>truth</th>\n",
              "    </tr>\n",
              "  </thead>\n",
              "  <tbody>\n",
              "    <tr>\n",
              "      <th>0</th>\n",
              "      <td>-405.396208</td>\n",
              "      <td>-55.088065</td>\n",
              "      <td>7.0</td>\n",
              "      <td>8.0</td>\n",
              "      <td>0.920859</td>\n",
              "      <td>4.0</td>\n",
              "      <td>2.248665</td>\n",
              "      <td>1.0</td>\n",
              "      <td>0.004004</td>\n",
              "      <td>False</td>\n",
              "    </tr>\n",
              "    <tr>\n",
              "      <th>1</th>\n",
              "      <td>-289.219896</td>\n",
              "      <td>-36.101133</td>\n",
              "      <td>7.0</td>\n",
              "      <td>8.0</td>\n",
              "      <td>-0.300691</td>\n",
              "      <td>4.0</td>\n",
              "      <td>1.150357</td>\n",
              "      <td>0.0</td>\n",
              "      <td>0.190018</td>\n",
              "      <td>False</td>\n",
              "    </tr>\n",
              "    <tr>\n",
              "      <th>2</th>\n",
              "      <td>305.559552</td>\n",
              "      <td>47.819048</td>\n",
              "      <td>8.0</td>\n",
              "      <td>8.0</td>\n",
              "      <td>1.479226</td>\n",
              "      <td>3.0</td>\n",
              "      <td>0.292745</td>\n",
              "      <td>0.0</td>\n",
              "      <td>0.552085</td>\n",
              "      <td>True</td>\n",
              "    </tr>\n",
              "    <tr>\n",
              "      <th>3</th>\n",
              "      <td>-65.467111</td>\n",
              "      <td>-20.079597</td>\n",
              "      <td>7.0</td>\n",
              "      <td>9.0</td>\n",
              "      <td>1.846824</td>\n",
              "      <td>6.0</td>\n",
              "      <td>2.531092</td>\n",
              "      <td>1.0</td>\n",
              "      <td>0.309604</td>\n",
              "      <td>True</td>\n",
              "    </tr>\n",
              "    <tr>\n",
              "      <th>4</th>\n",
              "      <td>-36.559888</td>\n",
              "      <td>1.770244</td>\n",
              "      <td>8.0</td>\n",
              "      <td>8.0</td>\n",
              "      <td>1.146386</td>\n",
              "      <td>3.0</td>\n",
              "      <td>2.477828</td>\n",
              "      <td>0.0</td>\n",
              "      <td>0.921135</td>\n",
              "      <td>True</td>\n",
              "    </tr>\n",
              "    <tr>\n",
              "      <th>...</th>\n",
              "      <td>...</td>\n",
              "      <td>...</td>\n",
              "      <td>...</td>\n",
              "      <td>...</td>\n",
              "      <td>...</td>\n",
              "      <td>...</td>\n",
              "      <td>...</td>\n",
              "      <td>...</td>\n",
              "      <td>...</td>\n",
              "      <td>...</td>\n",
              "    </tr>\n",
              "    <tr>\n",
              "      <th>597925</th>\n",
              "      <td>37.312987</td>\n",
              "      <td>19.564352</td>\n",
              "      <td>9.0</td>\n",
              "      <td>9.0</td>\n",
              "      <td>-1.333428</td>\n",
              "      <td>4.0</td>\n",
              "      <td>2.143248</td>\n",
              "      <td>0.0</td>\n",
              "      <td>0.959079</td>\n",
              "      <td>True</td>\n",
              "    </tr>\n",
              "    <tr>\n",
              "      <th>597926</th>\n",
              "      <td>135.693776</td>\n",
              "      <td>36.788949</td>\n",
              "      <td>7.0</td>\n",
              "      <td>8.0</td>\n",
              "      <td>-1.589252</td>\n",
              "      <td>4.0</td>\n",
              "      <td>2.474212</td>\n",
              "      <td>1.0</td>\n",
              "      <td>0.031660</td>\n",
              "      <td>False</td>\n",
              "    </tr>\n",
              "    <tr>\n",
              "      <th>597927</th>\n",
              "      <td>-15.089800</td>\n",
              "      <td>-60.913300</td>\n",
              "      <td>10.0</td>\n",
              "      <td>10.0</td>\n",
              "      <td>-1.001209</td>\n",
              "      <td>5.0</td>\n",
              "      <td>0.623715</td>\n",
              "      <td>0.0</td>\n",
              "      <td>0.943002</td>\n",
              "      <td>True</td>\n",
              "    </tr>\n",
              "    <tr>\n",
              "      <th>597928</th>\n",
              "      <td>-9.391496</td>\n",
              "      <td>-6.269781</td>\n",
              "      <td>11.0</td>\n",
              "      <td>13.0</td>\n",
              "      <td>0.559370</td>\n",
              "      <td>10.0</td>\n",
              "      <td>1.514439</td>\n",
              "      <td>0.0</td>\n",
              "      <td>0.999706</td>\n",
              "      <td>True</td>\n",
              "    </tr>\n",
              "    <tr>\n",
              "      <th>597929</th>\n",
              "      <td>-204.429733</td>\n",
              "      <td>-8.912178</td>\n",
              "      <td>6.0</td>\n",
              "      <td>8.0</td>\n",
              "      <td>-0.434775</td>\n",
              "      <td>5.0</td>\n",
              "      <td>1.105537</td>\n",
              "      <td>0.0</td>\n",
              "      <td>0.140677</td>\n",
              "      <td>False</td>\n",
              "    </tr>\n",
              "  </tbody>\n",
              "</table>\n",
              "<p>597930 rows × 10 columns</p>\n",
              "</div>"
            ],
            "text/plain": [
              "                z0         d0  ...  predictions  truth\n",
              "0      -405.396208 -55.088065  ...     0.004004  False\n",
              "1      -289.219896 -36.101133  ...     0.190018  False\n",
              "2       305.559552  47.819048  ...     0.552085   True\n",
              "3       -65.467111 -20.079597  ...     0.309604   True\n",
              "4       -36.559888   1.770244  ...     0.921135   True\n",
              "...            ...        ...  ...          ...    ...\n",
              "597925   37.312987  19.564352  ...     0.959079   True\n",
              "597926  135.693776  36.788949  ...     0.031660  False\n",
              "597927  -15.089800 -60.913300  ...     0.943002   True\n",
              "597928   -9.391496  -6.269781  ...     0.999706   True\n",
              "597929 -204.429733  -8.912178  ...     0.140677  False\n",
              "\n",
              "[597930 rows x 10 columns]"
            ]
          },
          "metadata": {
            "tags": []
          },
          "execution_count": 65
        }
      ]
    },
    {
      "cell_type": "code",
      "metadata": {
        "id": "Sjt38spW88WB",
        "colab_type": "code",
        "colab": {
          "base_uri": "https://localhost:8080/",
          "height": 153
        },
        "outputId": "062c8f17-5491-4527-a78b-dd16f699d32d"
      },
      "source": [
        "unscaled_test_set = pd.DataFrame()\n",
        "\n",
        "for mean, std, col in zip(X_mean, X_std, test_set.columns):\n",
        "  print(mean, std, col)\n",
        "  # unscale and unshift\n",
        "  unscaled_test_set[col] = test_set[col]*std + mean\n",
        "unscaled_test_set['predictions'] = test_set['predictions']\n",
        "unscaled_test_set['truth'] = test_set['truth']\n",
        "\n",
        "unscaled_test_set = test_set\n"
      ],
      "execution_count": 68,
      "outputs": [
        {
          "output_type": "stream",
          "text": [
            "0.5579547054354418 204.55289441814242 z0\n",
            "-2.635703316642451 77.57128799576894 d0\n",
            "7.916095138959503 1.0704283093515243 numberOfSCTHits\n",
            "9.04952924223855 1.4769976386183998 Sihits\n",
            "0.01294713802137038 1.340021629825517 eta\n",
            "5.182963345517599 2.4202648964986633 numberDoF\n",
            "1.1863936199722547 0.8933307465897727 geometric_var\n",
            "0.2657767737205183 0.4417459453930852 numberOfSCTHoles\n"
          ],
          "name": "stdout"
        }
      ]
    },
    {
      "cell_type": "code",
      "metadata": {
        "id": "3J-GF2aaNimg",
        "colab_type": "code",
        "colab": {
          "base_uri": "https://localhost:8080/",
          "height": 297
        },
        "outputId": "1a1b0ca3-6153-430a-9ed0-a14bc28823db"
      },
      "source": [
        "unscaled_test_set.describe()"
      ],
      "execution_count": 69,
      "outputs": [
        {
          "output_type": "execute_result",
          "data": {
            "text/html": [
              "<div>\n",
              "<style scoped>\n",
              "    .dataframe tbody tr th:only-of-type {\n",
              "        vertical-align: middle;\n",
              "    }\n",
              "\n",
              "    .dataframe tbody tr th {\n",
              "        vertical-align: top;\n",
              "    }\n",
              "\n",
              "    .dataframe thead th {\n",
              "        text-align: right;\n",
              "    }\n",
              "</style>\n",
              "<table border=\"1\" class=\"dataframe\">\n",
              "  <thead>\n",
              "    <tr style=\"text-align: right;\">\n",
              "      <th></th>\n",
              "      <th>z0</th>\n",
              "      <th>d0</th>\n",
              "      <th>numberOfSCTHits</th>\n",
              "      <th>Sihits</th>\n",
              "      <th>eta</th>\n",
              "      <th>numberDoF</th>\n",
              "      <th>geometric_var</th>\n",
              "      <th>numberOfSCTHoles</th>\n",
              "      <th>predictions</th>\n",
              "    </tr>\n",
              "  </thead>\n",
              "  <tbody>\n",
              "    <tr>\n",
              "      <th>count</th>\n",
              "      <td>597930.000000</td>\n",
              "      <td>597930.000000</td>\n",
              "      <td>597930.000000</td>\n",
              "      <td>597930.000000</td>\n",
              "      <td>597930.000000</td>\n",
              "      <td>597930.000000</td>\n",
              "      <td>5.979300e+05</td>\n",
              "      <td>597930.000000</td>\n",
              "      <td>597930.000000</td>\n",
              "    </tr>\n",
              "    <tr>\n",
              "      <th>mean</th>\n",
              "      <td>0.145017</td>\n",
              "      <td>-2.598907</td>\n",
              "      <td>7.916099</td>\n",
              "      <td>9.049365</td>\n",
              "      <td>0.013048</td>\n",
              "      <td>5.182632</td>\n",
              "      <td>1.185543e+00</td>\n",
              "      <td>0.266026</td>\n",
              "      <td>0.494254</td>\n",
              "    </tr>\n",
              "    <tr>\n",
              "      <th>std</th>\n",
              "      <td>204.793900</td>\n",
              "      <td>77.570817</td>\n",
              "      <td>1.070637</td>\n",
              "      <td>1.476103</td>\n",
              "      <td>1.340069</td>\n",
              "      <td>2.418512</td>\n",
              "      <td>8.929166e-01</td>\n",
              "      <td>0.441878</td>\n",
              "      <td>0.389715</td>\n",
              "    </tr>\n",
              "    <tr>\n",
              "      <th>min</th>\n",
              "      <td>-499.997330</td>\n",
              "      <td>-299.842419</td>\n",
              "      <td>2.000000</td>\n",
              "      <td>6.000000</td>\n",
              "      <td>-2.689074</td>\n",
              "      <td>1.000000</td>\n",
              "      <td>4.063888e-07</td>\n",
              "      <td>0.000000</td>\n",
              "      <td>0.000566</td>\n",
              "    </tr>\n",
              "    <tr>\n",
              "      <th>25%</th>\n",
              "      <td>-114.936472</td>\n",
              "      <td>-36.102601</td>\n",
              "      <td>7.000000</td>\n",
              "      <td>8.000000</td>\n",
              "      <td>-1.101206</td>\n",
              "      <td>4.000000</td>\n",
              "      <td>3.612663e-01</td>\n",
              "      <td>0.000000</td>\n",
              "      <td>0.096287</td>\n",
              "    </tr>\n",
              "    <tr>\n",
              "      <th>50%</th>\n",
              "      <td>0.583398</td>\n",
              "      <td>-3.373494</td>\n",
              "      <td>8.000000</td>\n",
              "      <td>8.000000</td>\n",
              "      <td>0.012681</td>\n",
              "      <td>4.000000</td>\n",
              "      <td>9.913111e-01</td>\n",
              "      <td>0.000000</td>\n",
              "      <td>0.422736</td>\n",
              "    </tr>\n",
              "    <tr>\n",
              "      <th>75%</th>\n",
              "      <td>115.477447</td>\n",
              "      <td>29.385239</td>\n",
              "      <td>8.000000</td>\n",
              "      <td>10.000000</td>\n",
              "      <td>1.124654</td>\n",
              "      <td>6.000000</td>\n",
              "      <td>1.999304e+00</td>\n",
              "      <td>1.000000</td>\n",
              "      <td>0.937813</td>\n",
              "    </tr>\n",
              "    <tr>\n",
              "      <th>max</th>\n",
              "      <td>499.901019</td>\n",
              "      <td>298.223497</td>\n",
              "      <td>18.000000</td>\n",
              "      <td>21.000000</td>\n",
              "      <td>2.694963</td>\n",
              "      <td>25.000000</td>\n",
              "      <td>2.996917e+00</td>\n",
              "      <td>1.000000</td>\n",
              "      <td>1.000000</td>\n",
              "    </tr>\n",
              "  </tbody>\n",
              "</table>\n",
              "</div>"
            ],
            "text/plain": [
              "                  z0             d0  ...  numberOfSCTHoles    predictions\n",
              "count  597930.000000  597930.000000  ...     597930.000000  597930.000000\n",
              "mean        0.145017      -2.598907  ...          0.266026       0.494254\n",
              "std       204.793900      77.570817  ...          0.441878       0.389715\n",
              "min      -499.997330    -299.842419  ...          0.000000       0.000566\n",
              "25%      -114.936472     -36.102601  ...          0.000000       0.096287\n",
              "50%         0.583398      -3.373494  ...          0.000000       0.422736\n",
              "75%       115.477447      29.385239  ...          1.000000       0.937813\n",
              "max       499.901019     298.223497  ...          1.000000       1.000000\n",
              "\n",
              "[8 rows x 9 columns]"
            ]
          },
          "metadata": {
            "tags": []
          },
          "execution_count": 69
        }
      ]
    },
    {
      "cell_type": "code",
      "metadata": {
        "id": "S0K-QyUrFRCe",
        "colab_type": "code",
        "colab": {
          "base_uri": "https://localhost:8080/",
          "height": 758
        },
        "outputId": "f3ad9edd-d1b2-4a30-ad6a-f89109e88df5"
      },
      "source": [
        "\n",
        "good_query = 'truth == True'\n",
        "fake_query = 'truth == False'\n",
        "# Create slices for convenience\n",
        "good = unscaled_test_set.query(good_query)\n",
        "fake = unscaled_test_set.query(fake_query)\n",
        "# apply cut\n",
        "cut_query = 'predictions > 0.02'\n",
        "new_good = good.query(cut_query)\n",
        "new_fake = fake.query(cut_query)\n",
        "\n",
        "print(good)\n",
        "print(fake)\n",
        "\n",
        "new_good.predictions.hist()\n",
        "new_fake.predictions.hist()\n"
      ],
      "execution_count": 70,
      "outputs": [
        {
          "output_type": "stream",
          "text": [
            "                z0          d0  ...  predictions  truth\n",
            "2       305.559552   47.819048  ...     0.552085   True\n",
            "3       -65.467111  -20.079597  ...     0.309604   True\n",
            "4       -36.559888    1.770244  ...     0.921135   True\n",
            "8       136.281597 -181.093588  ...     0.320249   True\n",
            "9       -13.069882  -33.805648  ...     0.956581   True\n",
            "...            ...         ...  ...          ...    ...\n",
            "597923  131.157346   12.713296  ...     0.999749   True\n",
            "597924 -116.759116  -19.207735  ...     0.999970   True\n",
            "597925   37.312987   19.564352  ...     0.959079   True\n",
            "597927  -15.089800  -60.913300  ...     0.943002   True\n",
            "597928   -9.391496   -6.269781  ...     0.999706   True\n",
            "\n",
            "[299405 rows x 10 columns]\n",
            "                z0          d0  ...  predictions  truth\n",
            "0      -405.396208  -55.088065  ...     0.004004  False\n",
            "1      -289.219896  -36.101133  ...     0.190018  False\n",
            "5       -11.766423  -91.942785  ...     0.526145  False\n",
            "6      -185.098530  106.925149  ...     0.138245  False\n",
            "7      -458.194876   -4.290534  ...     0.003419  False\n",
            "...            ...         ...  ...          ...    ...\n",
            "597919 -217.497233   78.635414  ...     0.012046  False\n",
            "597921  174.618180  102.268691  ...     0.020526  False\n",
            "597922  113.018545 -124.645854  ...     0.116195  False\n",
            "597926  135.693776   36.788949  ...     0.031660  False\n",
            "597929 -204.429733   -8.912178  ...     0.140677  False\n",
            "\n",
            "[298525 rows x 10 columns]\n"
          ],
          "name": "stdout"
        },
        {
          "output_type": "execute_result",
          "data": {
            "text/plain": [
              "<matplotlib.axes._subplots.AxesSubplot at 0x7fde15e102e8>"
            ]
          },
          "metadata": {
            "tags": []
          },
          "execution_count": 70
        },
        {
          "output_type": "display_data",
          "data": {
            "image/png": "[encoded data removed]",
            "text/plain": [
              "<Figure size 432x288 with 1 Axes>"
            ]
          },
          "metadata": {
            "tags": [],
            "needs_background": "light"
          }
        }
      ]
    },
    {
      "cell_type": "code",
      "metadata": {
        "id": "5D-oBYksRwjq",
        "colab_type": "code",
        "colab": {
          "base_uri": "https://localhost:8080/",
          "height": 533
        },
        "outputId": "a99d6354-5b49-47c2-f8da-11f3545e97d3"
      },
      "source": [
        "cut_vals = np.linspace(0,.3,50)\n",
        "signal_acc = []\n",
        "background_rej = []\n",
        "for cut_val in cut_vals:\n",
        "  cut_query = f'predictions > {cut_val}'\n",
        "  # print(f'cut at nn score of {cut_val}')\n",
        "  signal_acc.append(len(good.query(cut_query))/len(good))\n",
        "  background_rej.append(len(fake.query(cut_query))/len(fake))\n",
        "\n",
        "plt.figure(figsize=(12,8))\n",
        "plt.plot(cut_vals, signal_acc, linewidth=4,)\n",
        "plt.plot(cut_vals, background_rej, linewidth=4,)\n",
        "ax = plt.gca()\n",
        "\n",
        "# Show the major grid lines with dark grey lines\n",
        "ax.grid(b=True, which='major', color='#666666', linestyle='-')\n",
        "# Show the minor grid lines with very faint and almost transparent grey lines\n",
        "ax.minorticks_on()\n",
        "ax.grid(b=True, which='minor', color='#999999', linestyle='-', alpha=0.2)\n",
        "\n",
        "ax.tick_params(axis='both', which='major', labelsize=16)\n",
        "ax.set_xlabel('NN score threshold',  fontsize=25)\n",
        "ax.set_ylabel('Fraction of tracks accepted', fontsize=25)\n",
        "ax.legend(['good tracks', 'fake tracks'], fontsize=20)\n"
      ],
      "execution_count": 72,
      "outputs": [
        {
          "output_type": "execute_result",
          "data": {
            "text/plain": [
              "<matplotlib.legend.Legend at 0x7fde15db1780>"
            ]
          },
          "metadata": {
            "tags": []
          },
          "execution_count": 72
        },
        {
          "output_type": "display_data",
          "data": {
            "image/png": "[encoded data removed]",
            "text/plain": [
              "<Figure size 864x576 with 1 Axes>"
            ]
          },
          "metadata": {
            "tags": [],
            "needs_background": "light"
          }
        }
      ]
    },
    {
      "cell_type": "code",
      "metadata": {
        "id": "zhbbRHFaEVai",
        "colab_type": "code",
        "colab": {
          "base_uri": "https://localhost:8080/",
          "height": 1000
        },
        "outputId": "3ebe74bc-490a-45e6-bfd6-d5f381ff91a9"
      },
      "source": [
        "def test_cut(x, cut_query, bins=np.linspace(0,1,11), leg_loc='upper left', log=False):\n",
        "    df = unscaled_test_set\n",
        "    plot_options = {\n",
        "        'histtype' : 'step',\n",
        "        'linewidth' : 3.5, \n",
        "        'alpha' : 0.85, \n",
        "        'density' : None,\n",
        "        'bins' : bins,\n",
        "        'log' : log\n",
        "    }\n",
        "\n",
        "    good_query = 'truth == 1'\n",
        "    fake_query = 'truth == 0'\n",
        "    # Create slices for convenience\n",
        "    good = df.query(good_query)\n",
        "    fake = df.query(fake_query)\n",
        "    # apply cut\n",
        "    new_good = good.query(cut_query)\n",
        "    new_fake = fake.query(cut_query)\n",
        "\n",
        "    good_vals = ax.hist(good[x], edgecolor='#4C72B0', **plot_options)\n",
        "    fake_vals = ax.hist(fake[x], edgecolor='#55A868', **plot_options)\n",
        "    good_vals = ax.hist(new_good[x], edgecolor='#4C72B0', linestyle='--', **plot_options)\n",
        "    fake_vals = ax.hist(new_fake[x], edgecolor='#55A868', linestyle='--',  **plot_options)\n",
        "    ax.legend(['good', 'fake', 'good (cut)', 'fake (cut)'], loc=leg_loc, fontsize=20)\n",
        "    ax.set_xlabel(x, fontsize = 20)\n",
        "    ax.tick_params(axis='both', which='major', labelsize=16)\n",
        "    return ax\n",
        "\n",
        "cut_val = 0.2\n",
        "cut_query = f'predictions > {cut_val}'\n",
        "fig, ax = plt.subplots(1, 1,figsize=(12,8))\n",
        "test_cut('z0', cut_query, bins=np.linspace(0,500,80), leg_loc='upper right', log=True)\n",
        "fig, ax = plt.subplots(1, 1,figsize=(12,8))\n",
        "test_cut('d0', cut_query, bins=np.linspace(0,250,80), leg_loc='upper right', log=True)\n",
        "fig, ax = plt.subplots(1, 1,figsize=(12,8))\n",
        "test_cut('predictions', cut_query, bins=np.linspace(0,1,80), leg_loc='upper right', log=False)\n",
        "# fig, ax = plt.subplots(1, 1,figsize=(12,8))\n",
        "# test_cut('truthProbability', cut_query, bins=np.linspace(0,1,11), leg_loc='upper left')\n"
      ],
      "execution_count": 80,
      "outputs": [
        {
          "output_type": "execute_result",
          "data": {
            "text/plain": [
              "<matplotlib.axes._subplots.AxesSubplot at 0x7fde1514b198>"
            ]
          },
          "metadata": {
            "tags": []
          },
          "execution_count": 80
        },
        {
          "output_type": "display_data",
          "data": {
            "image/png": "[encoded data removed]",
            "text/plain": [
              "<Figure size 864x576 with 1 Axes>"
            ]
          },
          "metadata": {
            "tags": [],
            "needs_background": "light"
          }
        },
        {
          "output_type": "display_data",
          "data": {
            "image/png": "[encoded data removed]",
            "text/plain": [
              "<Figure size 864x576 with 1 Axes>"
            ]
          },
          "metadata": {
            "tags": [],
            "needs_background": "light"
          }
        },
        {
          "output_type": "display_data",
          "data": {
            "image/png": "[encoded data removed]",
            "text/plain": [
              "<Figure size 864x576 with 1 Axes>"
            ]
          },
          "metadata": {
            "tags": [],
            "needs_background": "light"
          }
        }
      ]
    },
    {
      "cell_type": "code",
      "metadata": {
        "id": "HkNVakVUPhDp",
        "colab_type": "code",
        "colab": {
          "base_uri": "https://localhost:8080/",
          "height": 34
        },
        "outputId": "2947b632-3809-41c9-8f46-a3143281871f"
      },
      "source": [
        "1 - len(good.query(cut_query))/len(good)"
      ],
      "execution_count": null,
      "outputs": [
        {
          "output_type": "execute_result",
          "data": {
            "text/plain": [
              "0.01763497603580433"
            ]
          },
          "metadata": {
            "tags": []
          },
          "execution_count": 190
        }
      ]
    },
    {
      "cell_type": "code",
      "metadata": {
        "id": "ec0oYdMbKMe3",
        "colab_type": "code",
        "colab": {
          "base_uri": "https://localhost:8080/",
          "height": 34
        },
        "outputId": "df9f1cf0-2a75-4eba-c240-e2ad8980c85b"
      },
      "source": [
        "1 - len(fake.query(cut_query))/len(fake)"
      ],
      "execution_count": null,
      "outputs": [
        {
          "output_type": "execute_result",
          "data": {
            "text/plain": [
              "0.5293995477765681"
            ]
          },
          "metadata": {
            "tags": []
          },
          "execution_count": 189
        }
      ]
    },
    {
      "cell_type": "code",
      "metadata": {
        "id": "RK6GZgtxJRed",
        "colab_type": "code",
        "colab": {}
      },
      "source": [
        ""
      ],
      "execution_count": null,
      "outputs": []
    }
  ]
}